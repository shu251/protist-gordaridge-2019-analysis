{
 "cells": [
  {
   "cell_type": "markdown",
   "metadata": {},
   "source": [
    "## Gorda Ridge data compilation & analysis\n",
    "##### S. Hu May 2020"
   ]
  },
  {
   "cell_type": "code",
   "execution_count": 1,
   "metadata": {
    "scrolled": true
   },
   "outputs": [
    {
     "name": "stderr",
     "output_type": "stream",
     "text": [
      "── \u001b[1mAttaching packages\u001b[22m ─────────────────────────────────────── tidyverse 1.3.0 ──\n",
      "\n",
      "\u001b[32m✔\u001b[39m \u001b[34mggplot2\u001b[39m 3.2.1     \u001b[32m✔\u001b[39m \u001b[34mpurrr  \u001b[39m 0.3.3\n",
      "\u001b[32m✔\u001b[39m \u001b[34mtibble \u001b[39m 2.1.3     \u001b[32m✔\u001b[39m \u001b[34mdplyr  \u001b[39m 0.8.5\n",
      "\u001b[32m✔\u001b[39m \u001b[34mtidyr  \u001b[39m 1.0.2     \u001b[32m✔\u001b[39m \u001b[34mstringr\u001b[39m 1.4.0\n",
      "\u001b[32m✔\u001b[39m \u001b[34mreadr  \u001b[39m 1.3.1     \u001b[32m✔\u001b[39m \u001b[34mforcats\u001b[39m 0.5.0\n",
      "\n",
      "── \u001b[1mConflicts\u001b[22m ────────────────────────────────────────── tidyverse_conflicts() ──\n",
      "\u001b[31m✖\u001b[39m \u001b[34mdplyr\u001b[39m::\u001b[32mfilter()\u001b[39m masks \u001b[34mstats\u001b[39m::filter()\n",
      "\u001b[31m✖\u001b[39m \u001b[34mdplyr\u001b[39m::\u001b[32mlag()\u001b[39m    masks \u001b[34mstats\u001b[39m::lag()\n",
      "\n",
      "\n",
      "********************************************************\n",
      "\n",
      "Note: As of version 1.0.0, cowplot does not change the\n",
      "\n",
      "  default ggplot2 theme anymore. To recover the previous\n",
      "\n",
      "  behavior, execute:\n",
      "  theme_set(theme_cowplot())\n",
      "\n",
      "********************************************************\n",
      "\n",
      "\n"
     ]
    }
   ],
   "source": [
    "library(tidyverse); library(cowplot)"
   ]
  },
  {
   "cell_type": "markdown",
   "metadata": {},
   "source": [
    "### Import raw count data and relevent metadata"
   ]
  },
  {
   "cell_type": "code",
   "execution_count": 2,
   "metadata": {
    "scrolled": true
   },
   "outputs": [
    {
     "data": {
      "text/html": [
       "<table>\n",
       "<caption>A data.frame: 3 × 20</caption>\n",
       "<thead>\n",
       "\t<tr><th></th><th scope=col>Dive</th><th scope=col>Sample.Location</th><th scope=col>Sample.ID</th><th scope=col>Cruise</th><th scope=col>SampleNumber</th><th scope=col>Vent.name</th><th scope=col>Depth..m.</th><th scope=col>Start.date</th><th scope=col>End.date</th><th scope=col>Est..FLP.added..cells.mL.</th><th scope=col>T0</th><th scope=col>T18</th><th scope=col>T24</th><th scope=col>T36</th><th scope=col>T1</th><th scope=col>T2</th><th scope=col>Incubation.temp.min</th><th scope=col>Incubation.temp.max</th><th scope=col>Collection.temp.min</th><th scope=col>Collection.temp.max</th></tr>\n",
       "\t<tr><th></th><th scope=col>&lt;fct&gt;</th><th scope=col>&lt;fct&gt;</th><th scope=col>&lt;fct&gt;</th><th scope=col>&lt;chr&gt;</th><th scope=col>&lt;chr&gt;</th><th scope=col>&lt;fct&gt;</th><th scope=col>&lt;lgl&gt;</th><th scope=col>&lt;fct&gt;</th><th scope=col>&lt;fct&gt;</th><th scope=col>&lt;dbl&gt;</th><th scope=col>&lt;fct&gt;</th><th scope=col>&lt;fct&gt;</th><th scope=col>&lt;fct&gt;</th><th scope=col>&lt;fct&gt;</th><th scope=col>&lt;int&gt;</th><th scope=col>&lt;int&gt;</th><th scope=col>&lt;int&gt;</th><th scope=col>&lt;dbl&gt;</th><th scope=col>&lt;int&gt;</th><th scope=col>&lt;int&gt;</th></tr>\n",
       "</thead>\n",
       "<tbody>\n",
       "\t<tr><th scope=row>1</th><td>H1750</td><td>Plume</td><td>NA108-001</td><td>NA108</td><td>001</td><td>Mt Edwards  </td><td>NA</td><td>29-May</td><td>31-May</td><td>44000</td><td>12:00:00 AM</td><td></td><td>10:45:00 PM</td><td>11:00:00 AM</td><td>23</td><td>35</td><td>12</td><td>15</td><td>NA</td><td>NA</td></tr>\n",
       "\t<tr><th scope=row>2</th><td>H1750</td><td>BSW  </td><td>NA108-003</td><td>NA108</td><td>003</td><td>Water column</td><td>NA</td><td>29-May</td><td>31-May</td><td>44000</td><td>2:30:00 AM </td><td></td><td>10:45:00 PM</td><td>11:00:00 AM</td><td>21</td><td>35</td><td>12</td><td>15</td><td> 1</td><td> 2</td></tr>\n",
       "\t<tr><th scope=row>3</th><td>H1751</td><td>Vent </td><td>NA108-013</td><td>NA108</td><td>013</td><td>Mt Edwards  </td><td>NA</td><td>30-May</td><td>1-Jun </td><td>44000</td><td>10:30:00 PM</td><td></td><td>10:30:00 PM</td><td>11:00:00 AM</td><td>24</td><td>36</td><td>12</td><td>15</td><td>15</td><td>30</td></tr>\n",
       "</tbody>\n",
       "</table>\n"
      ],
      "text/latex": [
       "A data.frame: 3 × 20\n",
       "\\begin{tabular}{r|llllllllllllllllllll}\n",
       "  & Dive & Sample.Location & Sample.ID & Cruise & SampleNumber & Vent.name & Depth..m. & Start.date & End.date & Est..FLP.added..cells.mL. & T0 & T18 & T24 & T36 & T1 & T2 & Incubation.temp.min & Incubation.temp.max & Collection.temp.min & Collection.temp.max\\\\\n",
       "  & <fct> & <fct> & <fct> & <chr> & <chr> & <fct> & <lgl> & <fct> & <fct> & <dbl> & <fct> & <fct> & <fct> & <fct> & <int> & <int> & <int> & <dbl> & <int> & <int>\\\\\n",
       "\\hline\n",
       "\t1 & H1750 & Plume & NA108-001 & NA108 & 001 & Mt Edwards   & NA & 29-May & 31-May & 44000 & 12:00:00 AM &  & 10:45:00 PM & 11:00:00 AM & 23 & 35 & 12 & 15 & NA & NA\\\\\n",
       "\t2 & H1750 & BSW   & NA108-003 & NA108 & 003 & Water column & NA & 29-May & 31-May & 44000 & 2:30:00 AM  &  & 10:45:00 PM & 11:00:00 AM & 21 & 35 & 12 & 15 &  1 &  2\\\\\n",
       "\t3 & H1751 & Vent  & NA108-013 & NA108 & 013 & Mt Edwards   & NA & 30-May & 1-Jun  & 44000 & 10:30:00 PM &  & 10:30:00 PM & 11:00:00 AM & 24 & 36 & 12 & 15 & 15 & 30\\\\\n",
       "\\end{tabular}\n"
      ],
      "text/markdown": [
       "\n",
       "A data.frame: 3 × 20\n",
       "\n",
       "| <!--/--> | Dive &lt;fct&gt; | Sample.Location &lt;fct&gt; | Sample.ID &lt;fct&gt; | Cruise &lt;chr&gt; | SampleNumber &lt;chr&gt; | Vent.name &lt;fct&gt; | Depth..m. &lt;lgl&gt; | Start.date &lt;fct&gt; | End.date &lt;fct&gt; | Est..FLP.added..cells.mL. &lt;dbl&gt; | T0 &lt;fct&gt; | T18 &lt;fct&gt; | T24 &lt;fct&gt; | T36 &lt;fct&gt; | T1 &lt;int&gt; | T2 &lt;int&gt; | Incubation.temp.min &lt;int&gt; | Incubation.temp.max &lt;dbl&gt; | Collection.temp.min &lt;int&gt; | Collection.temp.max &lt;int&gt; |\n",
       "|---|---|---|---|---|---|---|---|---|---|---|---|---|---|---|---|---|---|---|---|---|\n",
       "| 1 | H1750 | Plume | NA108-001 | NA108 | 001 | Mt Edwards   | NA | 29-May | 31-May | 44000 | 12:00:00 AM | <!----> | 10:45:00 PM | 11:00:00 AM | 23 | 35 | 12 | 15 | NA | NA |\n",
       "| 2 | H1750 | BSW   | NA108-003 | NA108 | 003 | Water column | NA | 29-May | 31-May | 44000 | 2:30:00 AM  | <!----> | 10:45:00 PM | 11:00:00 AM | 21 | 35 | 12 | 15 |  1 |  2 |\n",
       "| 3 | H1751 | Vent  | NA108-013 | NA108 | 013 | Mt Edwards   | NA | 30-May | 1-Jun  | 44000 | 10:30:00 PM | <!----> | 10:30:00 PM | 11:00:00 AM | 24 | 36 | 12 | 15 | 15 | 30 |\n",
       "\n"
      ],
      "text/plain": [
       "  Dive  Sample.Location Sample.ID Cruise SampleNumber Vent.name    Depth..m.\n",
       "1 H1750 Plume           NA108-001 NA108  001          Mt Edwards   NA       \n",
       "2 H1750 BSW             NA108-003 NA108  003          Water column NA       \n",
       "3 H1751 Vent            NA108-013 NA108  013          Mt Edwards   NA       \n",
       "  Start.date End.date Est..FLP.added..cells.mL. T0          T18 T24        \n",
       "1 29-May     31-May   44000                     12:00:00 AM     10:45:00 PM\n",
       "2 29-May     31-May   44000                     2:30:00 AM      10:45:00 PM\n",
       "3 30-May     1-Jun    44000                     10:30:00 PM     10:30:00 PM\n",
       "  T36         T1 T2 Incubation.temp.min Incubation.temp.max Collection.temp.min\n",
       "1 11:00:00 AM 23 35 12                  15                  NA                 \n",
       "2 11:00:00 AM 21 35 12                  15                   1                 \n",
       "3 11:00:00 AM 24 36 12                  15                  15                 \n",
       "  Collection.temp.max\n",
       "1 NA                 \n",
       "2  2                 \n",
       "3 30                 "
      ]
     },
     "metadata": {},
     "output_type": "display_data"
    },
    {
     "data": {
      "text/html": [
       "<table>\n",
       "<caption>A data.frame: 3 × 10</caption>\n",
       "<thead>\n",
       "\t<tr><th></th><th scope=col>Site</th><th scope=col>SampleOrigin</th><th scope=col>SampleNumber</th><th scope=col>Stain</th><th scope=col>ID</th><th scope=col>TimePoint</th><th scope=col>Bottle</th><th scope=col>Replicate</th><th scope=col>Cellsperml</th><th scope=col>T</th></tr>\n",
       "\t<tr><th></th><th scope=col>&lt;fct&gt;</th><th scope=col>&lt;chr&gt;</th><th scope=col>&lt;chr&gt;</th><th scope=col>&lt;chr&gt;</th><th scope=col>&lt;fct&gt;</th><th scope=col>&lt;chr&gt;</th><th scope=col>&lt;chr&gt;</th><th scope=col>&lt;chr&gt;</th><th scope=col>&lt;dbl&gt;</th><th scope=col>&lt;fct&gt;</th></tr>\n",
       "</thead>\n",
       "<tbody>\n",
       "\t<tr><th scope=row>1</th><td>Plume-001-DTAF</td><td>Plume</td><td>001</td><td>DTAF</td><td>T0-Ctrl-R1</td><td>T0</td><td>Ctrl</td><td>R1</td><td>53713.0</td><td>T0</td></tr>\n",
       "\t<tr><th scope=row>2</th><td>Plume-001-DTAF</td><td>Plume</td><td>001</td><td>DTAF</td><td>T0-Ctrl-R2</td><td>T0</td><td>Ctrl</td><td>R2</td><td>26342.7</td><td>T0</td></tr>\n",
       "\t<tr><th scope=row>3</th><td>Plume-001-DTAF</td><td>Plume</td><td>001</td><td>DTAF</td><td>T0-Exp-R1 </td><td>T0</td><td>Exp </td><td>R1</td><td>52452.8</td><td>T0</td></tr>\n",
       "</tbody>\n",
       "</table>\n"
      ],
      "text/latex": [
       "A data.frame: 3 × 10\n",
       "\\begin{tabular}{r|llllllllll}\n",
       "  & Site & SampleOrigin & SampleNumber & Stain & ID & TimePoint & Bottle & Replicate & Cellsperml & T\\\\\n",
       "  & <fct> & <chr> & <chr> & <chr> & <fct> & <chr> & <chr> & <chr> & <dbl> & <fct>\\\\\n",
       "\\hline\n",
       "\t1 & Plume-001-DTAF & Plume & 001 & DTAF & T0-Ctrl-R1 & T0 & Ctrl & R1 & 53713.0 & T0\\\\\n",
       "\t2 & Plume-001-DTAF & Plume & 001 & DTAF & T0-Ctrl-R2 & T0 & Ctrl & R2 & 26342.7 & T0\\\\\n",
       "\t3 & Plume-001-DTAF & Plume & 001 & DTAF & T0-Exp-R1  & T0 & Exp  & R1 & 52452.8 & T0\\\\\n",
       "\\end{tabular}\n"
      ],
      "text/markdown": [
       "\n",
       "A data.frame: 3 × 10\n",
       "\n",
       "| <!--/--> | Site &lt;fct&gt; | SampleOrigin &lt;chr&gt; | SampleNumber &lt;chr&gt; | Stain &lt;chr&gt; | ID &lt;fct&gt; | TimePoint &lt;chr&gt; | Bottle &lt;chr&gt; | Replicate &lt;chr&gt; | Cellsperml &lt;dbl&gt; | T &lt;fct&gt; |\n",
       "|---|---|---|---|---|---|---|---|---|---|---|\n",
       "| 1 | Plume-001-DTAF | Plume | 001 | DTAF | T0-Ctrl-R1 | T0 | Ctrl | R1 | 53713.0 | T0 |\n",
       "| 2 | Plume-001-DTAF | Plume | 001 | DTAF | T0-Ctrl-R2 | T0 | Ctrl | R2 | 26342.7 | T0 |\n",
       "| 3 | Plume-001-DTAF | Plume | 001 | DTAF | T0-Exp-R1  | T0 | Exp  | R1 | 52452.8 | T0 |\n",
       "\n"
      ],
      "text/plain": [
       "  Site           SampleOrigin SampleNumber Stain ID         TimePoint Bottle\n",
       "1 Plume-001-DTAF Plume        001          DTAF  T0-Ctrl-R1 T0        Ctrl  \n",
       "2 Plume-001-DTAF Plume        001          DTAF  T0-Ctrl-R2 T0        Ctrl  \n",
       "3 Plume-001-DTAF Plume        001          DTAF  T0-Exp-R1  T0        Exp   \n",
       "  Replicate Cellsperml T \n",
       "1 R1        53713.0    T0\n",
       "2 R2        26342.7    T0\n",
       "3 R1        52452.8    T0"
      ]
     },
     "metadata": {},
     "output_type": "display_data"
    },
    {
     "data": {
      "text/html": [
       "<table>\n",
       "<caption>A data.frame: 2 × 5</caption>\n",
       "<thead>\n",
       "\t<tr><th></th><th scope=col>Sample_Num</th><th scope=col>Specific_Site</th><th scope=col>Sample.location</th><th scope=col>Prok_count</th><th scope=col>Vent.name</th></tr>\n",
       "\t<tr><th></th><th scope=col>&lt;fct&gt;</th><th scope=col>&lt;fct&gt;</th><th scope=col>&lt;fct&gt;</th><th scope=col>&lt;dbl&gt;</th><th scope=col>&lt;fct&gt;</th></tr>\n",
       "</thead>\n",
       "<tbody>\n",
       "\t<tr><th scope=row>1</th><td>NA108-036</td><td>Plume036  </td><td>Plume</td><td>76899.49</td><td>Mt Edwards2</td></tr>\n",
       "\t<tr><th scope=row>2</th><td>NA108-013</td><td>Mt Edwards</td><td>Vent </td><td>76206.70</td><td>Mt Edwards </td></tr>\n",
       "</tbody>\n",
       "</table>\n"
      ],
      "text/latex": [
       "A data.frame: 2 × 5\n",
       "\\begin{tabular}{r|lllll}\n",
       "  & Sample\\_Num & Specific\\_Site & Sample.location & Prok\\_count & Vent.name\\\\\n",
       "  & <fct> & <fct> & <fct> & <dbl> & <fct>\\\\\n",
       "\\hline\n",
       "\t1 & NA108-036 & Plume036   & Plume & 76899.49 & Mt Edwards2\\\\\n",
       "\t2 & NA108-013 & Mt Edwards & Vent  & 76206.70 & Mt Edwards \\\\\n",
       "\\end{tabular}\n"
      ],
      "text/markdown": [
       "\n",
       "A data.frame: 2 × 5\n",
       "\n",
       "| <!--/--> | Sample_Num &lt;fct&gt; | Specific_Site &lt;fct&gt; | Sample.location &lt;fct&gt; | Prok_count &lt;dbl&gt; | Vent.name &lt;fct&gt; |\n",
       "|---|---|---|---|---|---|\n",
       "| 1 | NA108-036 | Plume036   | Plume | 76899.49 | Mt Edwards2 |\n",
       "| 2 | NA108-013 | Mt Edwards | Vent  | 76206.70 | Mt Edwards  |\n",
       "\n"
      ],
      "text/plain": [
       "  Sample_Num Specific_Site Sample.location Prok_count Vent.name  \n",
       "1 NA108-036  Plume036      Plume           76899.49   Mt Edwards2\n",
       "2 NA108-013  Mt Edwards    Vent            76206.70   Mt Edwards "
      ]
     },
     "metadata": {},
     "output_type": "display_data"
    }
   ],
   "source": [
    "# Metadata for each grazing experiment\n",
    "### Including dive ID, vent/site name, incubation parameters\n",
    "exp_list <- read.table(\"Table1_grazingexp_list.txt\",header=T, fill=T, sep=\"\\t\")\n",
    "exp_IDs <- exp_list %>%\n",
    "    separate(Sample.ID, c(\"Cruise\", \"SampleNumber\"), \"-\", remove = FALSE) %>% \n",
    "    data.frame #Split column\n",
    "head(exp_IDs[1:3,])\n",
    "\n",
    "# Import all cell count information from FLP disappearance experiments\n",
    "counts <- read.csv(\"GordaRidge-cell-count-results.csv\")\n",
    "counts_df <- counts %>%\n",
    "    separate(Site, c(\"SampleOrigin\", \"SampleNumber\", \"Stain\"), \"-\", remove = FALSE) %>%\n",
    "    separate(ID, c(\"TimePoint\", \"Bottle\", \"Replicate\"), \"-\", remove = FALSE) %>%\n",
    "    data.frame\n",
    "head(counts_df[1:3,])\n",
    "\n",
    "\n",
    "# Import prok counts\n",
    "prok<-read.table(\"prok_counts.txt\",header=T, fill=T, sep=\"\\t\"); head(prok[1:2,])"
   ]
  },
  {
   "cell_type": "code",
   "execution_count": 3,
   "metadata": {
    "scrolled": true
   },
   "outputs": [
    {
     "name": "stderr",
     "output_type": "stream",
     "text": [
      "Joining, by = \"SampleNumber\"\n",
      "\n"
     ]
    },
    {
     "data": {
      "text/html": [
       "<table>\n",
       "<caption>A data.frame: 6 × 30</caption>\n",
       "<thead>\n",
       "\t<tr><th></th><th scope=col>Site</th><th scope=col>SampleOrigin</th><th scope=col>SampleNumber</th><th scope=col>Stain</th><th scope=col>ID</th><th scope=col>Sample</th><th scope=col>TimePoint</th><th scope=col>Bottle</th><th scope=col>Replicate</th><th scope=col>Cellsperml</th><th scope=col>⋯</th><th scope=col>T0</th><th scope=col>T18</th><th scope=col>T24</th><th scope=col>T36</th><th scope=col>T1</th><th scope=col>T2</th><th scope=col>Incubation.temp.min</th><th scope=col>Incubation.temp.max</th><th scope=col>Collection.temp.min</th><th scope=col>Collection.temp.max</th></tr>\n",
       "\t<tr><th></th><th scope=col>&lt;fct&gt;</th><th scope=col>&lt;chr&gt;</th><th scope=col>&lt;chr&gt;</th><th scope=col>&lt;chr&gt;</th><th scope=col>&lt;fct&gt;</th><th scope=col>&lt;chr&gt;</th><th scope=col>&lt;chr&gt;</th><th scope=col>&lt;chr&gt;</th><th scope=col>&lt;chr&gt;</th><th scope=col>&lt;dbl&gt;</th><th scope=col>⋯</th><th scope=col>&lt;fct&gt;</th><th scope=col>&lt;fct&gt;</th><th scope=col>&lt;fct&gt;</th><th scope=col>&lt;fct&gt;</th><th scope=col>&lt;int&gt;</th><th scope=col>&lt;int&gt;</th><th scope=col>&lt;int&gt;</th><th scope=col>&lt;dbl&gt;</th><th scope=col>&lt;int&gt;</th><th scope=col>&lt;int&gt;</th></tr>\n",
       "</thead>\n",
       "<tbody>\n",
       "\t<tr><th scope=row>1</th><td>Plume-001-DTAF</td><td>Plume</td><td>001</td><td>DTAF</td><td>T0-Ctrl-R1</td><td>T0_Ctrl</td><td>T0</td><td>Ctrl</td><td>R1</td><td>53713.0</td><td>⋯</td><td>12:00:00 AM</td><td></td><td>10:45:00 PM</td><td>11:00:00 AM</td><td>23</td><td>35</td><td>12</td><td>15</td><td>NA</td><td>NA</td></tr>\n",
       "\t<tr><th scope=row>2</th><td>Plume-001-DTAF</td><td>Plume</td><td>001</td><td>DTAF</td><td>T0-Ctrl-R2</td><td>T0_Ctrl</td><td>T0</td><td>Ctrl</td><td>R2</td><td>26342.7</td><td>⋯</td><td>12:00:00 AM</td><td></td><td>10:45:00 PM</td><td>11:00:00 AM</td><td>23</td><td>35</td><td>12</td><td>15</td><td>NA</td><td>NA</td></tr>\n",
       "\t<tr><th scope=row>3</th><td>Plume-001-DTAF</td><td>Plume</td><td>001</td><td>DTAF</td><td>T0-Exp-R1 </td><td>T0_Exp </td><td>T0</td><td>Exp </td><td>R1</td><td>52452.8</td><td>⋯</td><td>12:00:00 AM</td><td></td><td>10:45:00 PM</td><td>11:00:00 AM</td><td>23</td><td>35</td><td>12</td><td>15</td><td>NA</td><td>NA</td></tr>\n",
       "\t<tr><th scope=row>4</th><td>Plume-001-DTAF</td><td>Plume</td><td>001</td><td>DTAF</td><td>T0-Exp-R2 </td><td>T0_Exp </td><td>T0</td><td>Exp </td><td>R2</td><td>82538.4</td><td>⋯</td><td>12:00:00 AM</td><td></td><td>10:45:00 PM</td><td>11:00:00 AM</td><td>23</td><td>35</td><td>12</td><td>15</td><td>NA</td><td>NA</td></tr>\n",
       "\t<tr><th scope=row>5</th><td>Plume-001-DTAF</td><td>Plume</td><td>001</td><td>DTAF</td><td>T0-Exp-R3 </td><td>T0_Exp </td><td>T0</td><td>Exp </td><td>R3</td><td>77025.3</td><td>⋯</td><td>12:00:00 AM</td><td></td><td>10:45:00 PM</td><td>11:00:00 AM</td><td>23</td><td>35</td><td>12</td><td>15</td><td>NA</td><td>NA</td></tr>\n",
       "\t<tr><th scope=row>6</th><td>Plume-001-DTAF</td><td>Plume</td><td>001</td><td>DTAF</td><td>T0-Exp-R4 </td><td>T0_Exp </td><td>T0</td><td>Exp </td><td>R4</td><td>67259.3</td><td>⋯</td><td>12:00:00 AM</td><td></td><td>10:45:00 PM</td><td>11:00:00 AM</td><td>23</td><td>35</td><td>12</td><td>15</td><td>NA</td><td>NA</td></tr>\n",
       "</tbody>\n",
       "</table>\n"
      ],
      "text/latex": [
       "A data.frame: 6 × 30\n",
       "\\begin{tabular}{r|lllllllllllllllllllll}\n",
       "  & Site & SampleOrigin & SampleNumber & Stain & ID & Sample & TimePoint & Bottle & Replicate & Cellsperml & ⋯ & T0 & T18 & T24 & T36 & T1 & T2 & Incubation.temp.min & Incubation.temp.max & Collection.temp.min & Collection.temp.max\\\\\n",
       "  & <fct> & <chr> & <chr> & <chr> & <fct> & <chr> & <chr> & <chr> & <chr> & <dbl> & ⋯ & <fct> & <fct> & <fct> & <fct> & <int> & <int> & <int> & <dbl> & <int> & <int>\\\\\n",
       "\\hline\n",
       "\t1 & Plume-001-DTAF & Plume & 001 & DTAF & T0-Ctrl-R1 & T0\\_Ctrl & T0 & Ctrl & R1 & 53713.0 & ⋯ & 12:00:00 AM &  & 10:45:00 PM & 11:00:00 AM & 23 & 35 & 12 & 15 & NA & NA\\\\\n",
       "\t2 & Plume-001-DTAF & Plume & 001 & DTAF & T0-Ctrl-R2 & T0\\_Ctrl & T0 & Ctrl & R2 & 26342.7 & ⋯ & 12:00:00 AM &  & 10:45:00 PM & 11:00:00 AM & 23 & 35 & 12 & 15 & NA & NA\\\\\n",
       "\t3 & Plume-001-DTAF & Plume & 001 & DTAF & T0-Exp-R1  & T0\\_Exp  & T0 & Exp  & R1 & 52452.8 & ⋯ & 12:00:00 AM &  & 10:45:00 PM & 11:00:00 AM & 23 & 35 & 12 & 15 & NA & NA\\\\\n",
       "\t4 & Plume-001-DTAF & Plume & 001 & DTAF & T0-Exp-R2  & T0\\_Exp  & T0 & Exp  & R2 & 82538.4 & ⋯ & 12:00:00 AM &  & 10:45:00 PM & 11:00:00 AM & 23 & 35 & 12 & 15 & NA & NA\\\\\n",
       "\t5 & Plume-001-DTAF & Plume & 001 & DTAF & T0-Exp-R3  & T0\\_Exp  & T0 & Exp  & R3 & 77025.3 & ⋯ & 12:00:00 AM &  & 10:45:00 PM & 11:00:00 AM & 23 & 35 & 12 & 15 & NA & NA\\\\\n",
       "\t6 & Plume-001-DTAF & Plume & 001 & DTAF & T0-Exp-R4  & T0\\_Exp  & T0 & Exp  & R4 & 67259.3 & ⋯ & 12:00:00 AM &  & 10:45:00 PM & 11:00:00 AM & 23 & 35 & 12 & 15 & NA & NA\\\\\n",
       "\\end{tabular}\n"
      ],
      "text/markdown": [
       "\n",
       "A data.frame: 6 × 30\n",
       "\n",
       "| <!--/--> | Site &lt;fct&gt; | SampleOrigin &lt;chr&gt; | SampleNumber &lt;chr&gt; | Stain &lt;chr&gt; | ID &lt;fct&gt; | Sample &lt;chr&gt; | TimePoint &lt;chr&gt; | Bottle &lt;chr&gt; | Replicate &lt;chr&gt; | Cellsperml &lt;dbl&gt; | ⋯ ⋯ | T0 &lt;fct&gt; | T18 &lt;fct&gt; | T24 &lt;fct&gt; | T36 &lt;fct&gt; | T1 &lt;int&gt; | T2 &lt;int&gt; | Incubation.temp.min &lt;int&gt; | Incubation.temp.max &lt;dbl&gt; | Collection.temp.min &lt;int&gt; | Collection.temp.max &lt;int&gt; |\n",
       "|---|---|---|---|---|---|---|---|---|---|---|---|---|---|---|---|---|---|---|---|---|---|\n",
       "| 1 | Plume-001-DTAF | Plume | 001 | DTAF | T0-Ctrl-R1 | T0_Ctrl | T0 | Ctrl | R1 | 53713.0 | ⋯ | 12:00:00 AM | <!----> | 10:45:00 PM | 11:00:00 AM | 23 | 35 | 12 | 15 | NA | NA |\n",
       "| 2 | Plume-001-DTAF | Plume | 001 | DTAF | T0-Ctrl-R2 | T0_Ctrl | T0 | Ctrl | R2 | 26342.7 | ⋯ | 12:00:00 AM | <!----> | 10:45:00 PM | 11:00:00 AM | 23 | 35 | 12 | 15 | NA | NA |\n",
       "| 3 | Plume-001-DTAF | Plume | 001 | DTAF | T0-Exp-R1  | T0_Exp  | T0 | Exp  | R1 | 52452.8 | ⋯ | 12:00:00 AM | <!----> | 10:45:00 PM | 11:00:00 AM | 23 | 35 | 12 | 15 | NA | NA |\n",
       "| 4 | Plume-001-DTAF | Plume | 001 | DTAF | T0-Exp-R2  | T0_Exp  | T0 | Exp  | R2 | 82538.4 | ⋯ | 12:00:00 AM | <!----> | 10:45:00 PM | 11:00:00 AM | 23 | 35 | 12 | 15 | NA | NA |\n",
       "| 5 | Plume-001-DTAF | Plume | 001 | DTAF | T0-Exp-R3  | T0_Exp  | T0 | Exp  | R3 | 77025.3 | ⋯ | 12:00:00 AM | <!----> | 10:45:00 PM | 11:00:00 AM | 23 | 35 | 12 | 15 | NA | NA |\n",
       "| 6 | Plume-001-DTAF | Plume | 001 | DTAF | T0-Exp-R4  | T0_Exp  | T0 | Exp  | R4 | 67259.3 | ⋯ | 12:00:00 AM | <!----> | 10:45:00 PM | 11:00:00 AM | 23 | 35 | 12 | 15 | NA | NA |\n",
       "\n"
      ],
      "text/plain": [
       "  Site           SampleOrigin SampleNumber Stain ID         Sample  TimePoint\n",
       "1 Plume-001-DTAF Plume        001          DTAF  T0-Ctrl-R1 T0_Ctrl T0       \n",
       "2 Plume-001-DTAF Plume        001          DTAF  T0-Ctrl-R2 T0_Ctrl T0       \n",
       "3 Plume-001-DTAF Plume        001          DTAF  T0-Exp-R1  T0_Exp  T0       \n",
       "4 Plume-001-DTAF Plume        001          DTAF  T0-Exp-R2  T0_Exp  T0       \n",
       "5 Plume-001-DTAF Plume        001          DTAF  T0-Exp-R3  T0_Exp  T0       \n",
       "6 Plume-001-DTAF Plume        001          DTAF  T0-Exp-R4  T0_Exp  T0       \n",
       "  Bottle Replicate Cellsperml ⋯ T0          T18 T24         T36         T1 T2\n",
       "1 Ctrl   R1        53713.0    ⋯ 12:00:00 AM     10:45:00 PM 11:00:00 AM 23 35\n",
       "2 Ctrl   R2        26342.7    ⋯ 12:00:00 AM     10:45:00 PM 11:00:00 AM 23 35\n",
       "3 Exp    R1        52452.8    ⋯ 12:00:00 AM     10:45:00 PM 11:00:00 AM 23 35\n",
       "4 Exp    R2        82538.4    ⋯ 12:00:00 AM     10:45:00 PM 11:00:00 AM 23 35\n",
       "5 Exp    R3        77025.3    ⋯ 12:00:00 AM     10:45:00 PM 11:00:00 AM 23 35\n",
       "6 Exp    R4        67259.3    ⋯ 12:00:00 AM     10:45:00 PM 11:00:00 AM 23 35\n",
       "  Incubation.temp.min Incubation.temp.max Collection.temp.min\n",
       "1 12                  15                  NA                 \n",
       "2 12                  15                  NA                 \n",
       "3 12                  15                  NA                 \n",
       "4 12                  15                  NA                 \n",
       "5 12                  15                  NA                 \n",
       "6 12                  15                  NA                 \n",
       "  Collection.temp.max\n",
       "1 NA                 \n",
       "2 NA                 \n",
       "3 NA                 \n",
       "4 NA                 \n",
       "5 NA                 \n",
       "6 NA                 "
      ]
     },
     "metadata": {},
     "output_type": "display_data"
    },
    {
     "data": {
      "text/html": [
       "<style>\n",
       ".list-inline {list-style: none; margin:0; padding: 0}\n",
       ".list-inline>li {display: inline-block}\n",
       ".list-inline>li:not(:last-child)::after {content: \"\\00b7\"; padding: 0 .5ex}\n",
       "</style>\n",
       "<ol class=list-inline><li>'Site'</li><li>'SampleOrigin'</li><li>'SampleNumber'</li><li>'Stain'</li><li>'ID'</li><li>'Sample'</li><li>'TimePoint'</li><li>'Bottle'</li><li>'Replicate'</li><li>'Cellsperml'</li><li>'T'</li><li>'Dive'</li><li>'Sample.Location'</li><li>'Sample.ID'</li><li>'Cruise'</li><li>'Vent.name'</li><li>'Depth..m.'</li><li>'Start.date'</li><li>'End.date'</li><li>'Est..FLP.added..cells.mL.'</li><li>'T0'</li><li>'T18'</li><li>'T24'</li><li>'T36'</li><li>'T1'</li><li>'T2'</li><li>'Incubation.temp.min'</li><li>'Incubation.temp.max'</li><li>'Collection.temp.min'</li><li>'Collection.temp.max'</li></ol>\n"
      ],
      "text/latex": [
       "\\begin{enumerate*}\n",
       "\\item 'Site'\n",
       "\\item 'SampleOrigin'\n",
       "\\item 'SampleNumber'\n",
       "\\item 'Stain'\n",
       "\\item 'ID'\n",
       "\\item 'Sample'\n",
       "\\item 'TimePoint'\n",
       "\\item 'Bottle'\n",
       "\\item 'Replicate'\n",
       "\\item 'Cellsperml'\n",
       "\\item 'T'\n",
       "\\item 'Dive'\n",
       "\\item 'Sample.Location'\n",
       "\\item 'Sample.ID'\n",
       "\\item 'Cruise'\n",
       "\\item 'Vent.name'\n",
       "\\item 'Depth..m.'\n",
       "\\item 'Start.date'\n",
       "\\item 'End.date'\n",
       "\\item 'Est..FLP.added..cells.mL.'\n",
       "\\item 'T0'\n",
       "\\item 'T18'\n",
       "\\item 'T24'\n",
       "\\item 'T36'\n",
       "\\item 'T1'\n",
       "\\item 'T2'\n",
       "\\item 'Incubation.temp.min'\n",
       "\\item 'Incubation.temp.max'\n",
       "\\item 'Collection.temp.min'\n",
       "\\item 'Collection.temp.max'\n",
       "\\end{enumerate*}\n"
      ],
      "text/markdown": [
       "1. 'Site'\n",
       "2. 'SampleOrigin'\n",
       "3. 'SampleNumber'\n",
       "4. 'Stain'\n",
       "5. 'ID'\n",
       "6. 'Sample'\n",
       "7. 'TimePoint'\n",
       "8. 'Bottle'\n",
       "9. 'Replicate'\n",
       "10. 'Cellsperml'\n",
       "11. 'T'\n",
       "12. 'Dive'\n",
       "13. 'Sample.Location'\n",
       "14. 'Sample.ID'\n",
       "15. 'Cruise'\n",
       "16. 'Vent.name'\n",
       "17. 'Depth..m.'\n",
       "18. 'Start.date'\n",
       "19. 'End.date'\n",
       "20. 'Est..FLP.added..cells.mL.'\n",
       "21. 'T0'\n",
       "22. 'T18'\n",
       "23. 'T24'\n",
       "24. 'T36'\n",
       "25. 'T1'\n",
       "26. 'T2'\n",
       "27. 'Incubation.temp.min'\n",
       "28. 'Incubation.temp.max'\n",
       "29. 'Collection.temp.min'\n",
       "30. 'Collection.temp.max'\n",
       "\n",
       "\n"
      ],
      "text/plain": [
       " [1] \"Site\"                      \"SampleOrigin\"             \n",
       " [3] \"SampleNumber\"              \"Stain\"                    \n",
       " [5] \"ID\"                        \"Sample\"                   \n",
       " [7] \"TimePoint\"                 \"Bottle\"                   \n",
       " [9] \"Replicate\"                 \"Cellsperml\"               \n",
       "[11] \"T\"                         \"Dive\"                     \n",
       "[13] \"Sample.Location\"           \"Sample.ID\"                \n",
       "[15] \"Cruise\"                    \"Vent.name\"                \n",
       "[17] \"Depth..m.\"                 \"Start.date\"               \n",
       "[19] \"End.date\"                  \"Est..FLP.added..cells.mL.\"\n",
       "[21] \"T0\"                        \"T18\"                      \n",
       "[23] \"T24\"                       \"T36\"                      \n",
       "[25] \"T1\"                        \"T2\"                       \n",
       "[27] \"Incubation.temp.min\"       \"Incubation.temp.max\"      \n",
       "[29] \"Collection.temp.min\"       \"Collection.temp.max\"      "
      ]
     },
     "metadata": {},
     "output_type": "display_data"
    }
   ],
   "source": [
    "# Join count data with experiment IDs so each vent site can be identified by name:\n",
    "counts_df_ids <- counts_df %>%\n",
    "    left_join(exp_IDs) %>%\n",
    "    unite(Sample, TimePoint, Bottle, sep = \"_\", remove = FALSE) %>%\n",
    "    data.frame\n",
    "head(counts_df_ids) # View combined table\n",
    "colnames(counts_df_ids)"
   ]
  },
  {
   "cell_type": "markdown",
   "metadata": {},
   "source": [
    "### Calculate Error rate to see which experiment we need to remove\n",
    "Using sample Vent 110 T0-control, this was counted 3 times as a technical replicate"
   ]
  },
  {
   "cell_type": "code",
   "execution_count": 4,
   "metadata": {
    "scrolled": true
   },
   "outputs": [
    {
     "data": {
      "text/html": [
       "<table>\n",
       "<caption>A data.frame: 1 × 5</caption>\n",
       "<thead>\n",
       "\t<tr><th></th><th scope=col>SampleOrigin</th><th scope=col>SampleNumber</th><th scope=col>MEAN</th><th scope=col>STDEV</th><th scope=col>ERR_PER</th></tr>\n",
       "\t<tr><th></th><th scope=col>&lt;chr&gt;</th><th scope=col>&lt;chr&gt;</th><th scope=col>&lt;dbl&gt;</th><th scope=col>&lt;dbl&gt;</th><th scope=col>&lt;dbl&gt;</th></tr>\n",
       "</thead>\n",
       "<tbody>\n",
       "\t<tr><th scope=row>1</th><td>Vent</td><td>110</td><td>60381.13</td><td>9751.156</td><td>16.14934</td></tr>\n",
       "</tbody>\n",
       "</table>\n"
      ],
      "text/latex": [
       "A data.frame: 1 × 5\n",
       "\\begin{tabular}{r|lllll}\n",
       "  & SampleOrigin & SampleNumber & MEAN & STDEV & ERR\\_PER\\\\\n",
       "  & <chr> & <chr> & <dbl> & <dbl> & <dbl>\\\\\n",
       "\\hline\n",
       "\t1 & Vent & 110 & 60381.13 & 9751.156 & 16.14934\\\\\n",
       "\\end{tabular}\n"
      ],
      "text/markdown": [
       "\n",
       "A data.frame: 1 × 5\n",
       "\n",
       "| <!--/--> | SampleOrigin &lt;chr&gt; | SampleNumber &lt;chr&gt; | MEAN &lt;dbl&gt; | STDEV &lt;dbl&gt; | ERR_PER &lt;dbl&gt; |\n",
       "|---|---|---|---|---|---|\n",
       "| 1 | Vent | 110 | 60381.13 | 9751.156 | 16.14934 |\n",
       "\n"
      ],
      "text/plain": [
       "  SampleOrigin SampleNumber MEAN     STDEV    ERR_PER \n",
       "1 Vent         110          60381.13 9751.156 16.14934"
      ]
     },
     "metadata": {},
     "output_type": "display_data"
    },
    {
     "data": {
      "text/html": [
       "16.1493426148967"
      ],
      "text/latex": [
       "16.1493426148967"
      ],
      "text/markdown": [
       "16.1493426148967"
      ],
      "text/plain": [
       "[1] 16.14934"
      ]
     },
     "metadata": {},
     "output_type": "display_data"
    }
   ],
   "source": [
    "# Need to determine error rate across technical replicates. \n",
    "## Prepped a single sample 3 times (3 different days); this was counted separately to to estimate a personal error rate\n",
    "# This is the % max and min that we will consider to be a margin of error\n",
    "tech_check <- counts_df_ids %>%\n",
    "    filter(Site %in% \"Vent-110-DTAF\" & TimePoint %in% \"T0\" & Bottle %in% \"Ctrl\" & !(Replicate %in% \"R2\")) %>%\n",
    "    group_by(SampleOrigin, SampleNumber) %>%\n",
    "    summarise(MEAN = mean(Cellsperml), STDEV = sd(Cellsperml), ERR_PER = (100*(STDEV/MEAN))) %>%\n",
    "    data.frame\n",
    "\n",
    "head(tech_check)\n",
    "PERCENT_ERR <- tech_check[[\"ERR_PER\"]]; PERCENT_ERR # Change in FLP time point to time point must exceed 16%"
   ]
  },
  {
   "cell_type": "markdown",
   "metadata": {},
   "source": [
    "## From count data, calculate average cell/ml"
   ]
  },
  {
   "cell_type": "code",
   "execution_count": 5,
   "metadata": {
    "scrolled": true
   },
   "outputs": [],
   "source": [
    "# Get average FLP concentration from T0 experiments and average cells/ml from proj counts\n",
    "# What else should I calculate count-to-count?\n",
    "calc_FLP_avg <- counts_df_ids %>%\n",
    "    group_by(SampleOrigin, SampleNumber, T, Bottle, Vent.name, Sample, Stain, T1, T2) %>%\n",
    "    summarise(Avg_cellmL = mean(Cellsperml), # Average cells per ml across replicates\n",
    "              sem=sd(Cellsperml)/sqrt(length(Cellsperml)), # Standard mean error\n",
    "              SD=sd(Cellsperml),  #standard deviation\n",
    "              var=sqrt(SD),  # variance\n",
    "              Num = n()) %>% #Total number of \n",
    "    data.frame\n",
    "# head(calc_FLP_avg)"
   ]
  },
  {
   "cell_type": "code",
   "execution_count": 6,
   "metadata": {
    "scrolled": true
   },
   "outputs": [
    {
     "data": {
      "text/html": [
       "<style>\n",
       ".list-inline {list-style: none; margin:0; padding: 0}\n",
       ".list-inline>li {display: inline-block}\n",
       ".list-inline>li:not(:last-child)::after {content: \"\\00b7\"; padding: 0 .5ex}\n",
       "</style>\n",
       "<ol class=list-inline><li>'SampleOrigin'</li><li>'SampleNumber'</li><li>'Bottle'</li><li>'Vent.name'</li><li>'Avg_cellmL_T0'</li><li>'sem_T0'</li></ol>\n"
      ],
      "text/latex": [
       "\\begin{enumerate*}\n",
       "\\item 'SampleOrigin'\n",
       "\\item 'SampleNumber'\n",
       "\\item 'Bottle'\n",
       "\\item 'Vent.name'\n",
       "\\item 'Avg\\_cellmL\\_T0'\n",
       "\\item 'sem\\_T0'\n",
       "\\end{enumerate*}\n"
      ],
      "text/markdown": [
       "1. 'SampleOrigin'\n",
       "2. 'SampleNumber'\n",
       "3. 'Bottle'\n",
       "4. 'Vent.name'\n",
       "5. 'Avg_cellmL_T0'\n",
       "6. 'sem_T0'\n",
       "\n",
       "\n"
      ],
      "text/plain": [
       "[1] \"SampleOrigin\"  \"SampleNumber\"  \"Bottle\"        \"Vent.name\"    \n",
       "[5] \"Avg_cellmL_T0\" \"sem_T0\"       "
      ]
     },
     "metadata": {},
     "output_type": "display_data"
    }
   ],
   "source": [
    "# Separate T0 from other time points to calculate % differences in DTAF counts from T0 to T1 and T0 to T2\n",
    "t0 <- filter(calc_FLP_avg, (T == \"T0\" & Stain == \"DTAF\")) %>%\n",
    "    select(-T1, -T2, -Stain, -Num, -T, -Sample, -SD, -var, Avg_cellmL_T0 = Avg_cellmL, sem_T0 = sem) %>%\n",
    "    data.frame\n",
    "# head(t0)\n",
    "\n",
    "t_ex <- filter(calc_FLP_avg, (!(T == \"T0\") & Stain == \"DTAF\")) %>%\n",
    "    select(-Stain, -Num, -Sample, -SD, -var) %>%\n",
    "    pivot_wider(names_from = T, values_from = c(Avg_cellmL, sem)) %>%\n",
    "    data.frame\n",
    "# head(t_ex)\n",
    "# ?pivot_wider\n",
    "\n",
    "bac_exp <- calc_FLP_avg %>%\n",
    "    filter(Stain %in% \"DAPI\") %>%\n",
    "    select(-Bottle, -Stain, -T1, -T2, -SD, -var, -Num, bac_cellmL = Avg_cellmL, bac_sem = sem) %>%\n",
    "    unite(SAMPLE, SampleOrigin, Vent.name, sep = \"-\", remove = FALSE) %>%\n",
    "    data.frame\n",
    "# head(bac_exp)\n",
    "dapi<-as.character(unique(bac_exp$SAMPLE))\n",
    "# dapi\n",
    "\n",
    "prok_avg <- prok %>%\n",
    "    group_by(Sample.location, Vent.name) %>%\n",
    "    summarise(prok_avg = mean(Prok_count)) %>%\n",
    "    unite(SAMPLE, Sample.location, Vent.name, sep = \"-\") %>%\n",
    "    data.frame\n",
    "# prok_avg\n",
    "\n",
    "# Created:\n",
    "# t0, t_ex, bac_exp, prok_avg\n",
    "colnames(t0)"
   ]
  },
  {
   "cell_type": "code",
   "execution_count": 7,
   "metadata": {
    "scrolled": true
   },
   "outputs": [
    {
     "name": "stderr",
     "output_type": "stream",
     "text": [
      "Joining, by = c(\"SampleOrigin\", \"SampleNumber\", \"Bottle\", \"Vent.name\")\n",
      "\n",
      "Joining, by = \"SAMPLE\"\n",
      "\n"
     ]
    },
    {
     "data": {
      "text/html": [
       "<table>\n",
       "<caption>A data.frame: 6 × 16</caption>\n",
       "<thead>\n",
       "\t<tr><th></th><th scope=col>SAMPLE</th><th scope=col>SampleOrigin</th><th scope=col>SampleNumber</th><th scope=col>Bottle</th><th scope=col>Vent.name</th><th scope=col>Avg_cellmL_T0</th><th scope=col>sem_T0</th><th scope=col>T1</th><th scope=col>T2</th><th scope=col>Avg_cellmL_T1</th><th scope=col>Avg_cellmL_T2</th><th scope=col>sem_T1</th><th scope=col>sem_T2</th><th scope=col>prok_avg</th><th scope=col>T0_T1_PercDiff</th><th scope=col>T0_T2_PercDiff</th></tr>\n",
       "\t<tr><th></th><th scope=col>&lt;chr&gt;</th><th scope=col>&lt;chr&gt;</th><th scope=col>&lt;chr&gt;</th><th scope=col>&lt;chr&gt;</th><th scope=col>&lt;fct&gt;</th><th scope=col>&lt;dbl&gt;</th><th scope=col>&lt;dbl&gt;</th><th scope=col>&lt;int&gt;</th><th scope=col>&lt;int&gt;</th><th scope=col>&lt;dbl&gt;</th><th scope=col>&lt;dbl&gt;</th><th scope=col>&lt;dbl&gt;</th><th scope=col>&lt;dbl&gt;</th><th scope=col>&lt;dbl&gt;</th><th scope=col>&lt;dbl&gt;</th><th scope=col>&lt;dbl&gt;</th></tr>\n",
       "</thead>\n",
       "<tbody>\n",
       "\t<tr><th scope=row>1</th><td>Plume-Mt Edwards</td><td>Plume</td><td>001</td><td>Ctrl</td><td>Mt Edwards </td><td>40027.85</td><td>13685.1500</td><td>23</td><td>35</td><td>71433.50</td><td>66235.50</td><td>   78.80</td><td>6536.9000</td><td> 51959.11</td><td>78.459498</td><td>65.473539</td></tr>\n",
       "\t<tr><th scope=row>2</th><td>Plume-Mt Edwards</td><td>Plume</td><td>001</td><td>Exp </td><td>Mt Edwards </td><td>69818.95</td><td> 6594.5107</td><td>23</td><td>35</td><td>65290.40</td><td>57808.35</td><td> 3386.60</td><td> 472.5500</td><td> 51959.11</td><td> 6.486133</td><td>17.202493</td></tr>\n",
       "\t<tr><th scope=row>3</th><td>Vent-Mt Edwards </td><td>Vent </td><td>013</td><td>Ctrl</td><td>Mt Edwards </td><td>50556.80</td><td>13027.5642</td><td>24</td><td>36</td><td>53502.93</td><td>44577.05</td><td>12508.17</td><td>1260.1500</td><td> 51439.52</td><td> 5.827373</td><td>11.827786</td></tr>\n",
       "\t<tr><th scope=row>4</th><td>Vent-Mt Edwards </td><td>Vent </td><td>013</td><td>Exp </td><td>Mt Edwards </td><td>60381.13</td><td> 4786.6367</td><td>24</td><td>36</td><td>40639.10</td><td>29770.53</td><td> 4095.40</td><td> 510.4046</td><td> 51439.52</td><td>32.695699</td><td>50.695651</td></tr>\n",
       "\t<tr><th scope=row>5</th><td>Vent-Venti latte</td><td>Vent </td><td>043</td><td>Ctrl</td><td>Venti latte</td><td>47761.10</td><td> 8224.6000</td><td>19</td><td>29</td><td>51271.45</td><td>52216.55</td><td> 9687.25</td><td>2126.4500</td><td>111192.50</td><td> 7.349810</td><td> 9.328617</td></tr>\n",
       "\t<tr><th scope=row>6</th><td>Vent-Venti latte</td><td>Vent </td><td>043</td><td>Exp </td><td>Venti latte</td><td>45154.57</td><td>  670.3404</td><td>19</td><td>29</td><td>32448.30</td><td>37436.30</td><td> 5670.60</td><td>2244.8518</td><td>111192.50</td><td>28.139494</td><td>17.092992</td></tr>\n",
       "</tbody>\n",
       "</table>\n"
      ],
      "text/latex": [
       "A data.frame: 6 × 16\n",
       "\\begin{tabular}{r|llllllllllllllll}\n",
       "  & SAMPLE & SampleOrigin & SampleNumber & Bottle & Vent.name & Avg\\_cellmL\\_T0 & sem\\_T0 & T1 & T2 & Avg\\_cellmL\\_T1 & Avg\\_cellmL\\_T2 & sem\\_T1 & sem\\_T2 & prok\\_avg & T0\\_T1\\_PercDiff & T0\\_T2\\_PercDiff\\\\\n",
       "  & <chr> & <chr> & <chr> & <chr> & <fct> & <dbl> & <dbl> & <int> & <int> & <dbl> & <dbl> & <dbl> & <dbl> & <dbl> & <dbl> & <dbl>\\\\\n",
       "\\hline\n",
       "\t1 & Plume-Mt Edwards & Plume & 001 & Ctrl & Mt Edwards  & 40027.85 & 13685.1500 & 23 & 35 & 71433.50 & 66235.50 &    78.80 & 6536.9000 &  51959.11 & 78.459498 & 65.473539\\\\\n",
       "\t2 & Plume-Mt Edwards & Plume & 001 & Exp  & Mt Edwards  & 69818.95 &  6594.5107 & 23 & 35 & 65290.40 & 57808.35 &  3386.60 &  472.5500 &  51959.11 &  6.486133 & 17.202493\\\\\n",
       "\t3 & Vent-Mt Edwards  & Vent  & 013 & Ctrl & Mt Edwards  & 50556.80 & 13027.5642 & 24 & 36 & 53502.93 & 44577.05 & 12508.17 & 1260.1500 &  51439.52 &  5.827373 & 11.827786\\\\\n",
       "\t4 & Vent-Mt Edwards  & Vent  & 013 & Exp  & Mt Edwards  & 60381.13 &  4786.6367 & 24 & 36 & 40639.10 & 29770.53 &  4095.40 &  510.4046 &  51439.52 & 32.695699 & 50.695651\\\\\n",
       "\t5 & Vent-Venti latte & Vent  & 043 & Ctrl & Venti latte & 47761.10 &  8224.6000 & 19 & 29 & 51271.45 & 52216.55 &  9687.25 & 2126.4500 & 111192.50 &  7.349810 &  9.328617\\\\\n",
       "\t6 & Vent-Venti latte & Vent  & 043 & Exp  & Venti latte & 45154.57 &   670.3404 & 19 & 29 & 32448.30 & 37436.30 &  5670.60 & 2244.8518 & 111192.50 & 28.139494 & 17.092992\\\\\n",
       "\\end{tabular}\n"
      ],
      "text/markdown": [
       "\n",
       "A data.frame: 6 × 16\n",
       "\n",
       "| <!--/--> | SAMPLE &lt;chr&gt; | SampleOrigin &lt;chr&gt; | SampleNumber &lt;chr&gt; | Bottle &lt;chr&gt; | Vent.name &lt;fct&gt; | Avg_cellmL_T0 &lt;dbl&gt; | sem_T0 &lt;dbl&gt; | T1 &lt;int&gt; | T2 &lt;int&gt; | Avg_cellmL_T1 &lt;dbl&gt; | Avg_cellmL_T2 &lt;dbl&gt; | sem_T1 &lt;dbl&gt; | sem_T2 &lt;dbl&gt; | prok_avg &lt;dbl&gt; | T0_T1_PercDiff &lt;dbl&gt; | T0_T2_PercDiff &lt;dbl&gt; |\n",
       "|---|---|---|---|---|---|---|---|---|---|---|---|---|---|---|---|---|\n",
       "| 1 | Plume-Mt Edwards | Plume | 001 | Ctrl | Mt Edwards  | 40027.85 | 13685.1500 | 23 | 35 | 71433.50 | 66235.50 |    78.80 | 6536.9000 |  51959.11 | 78.459498 | 65.473539 |\n",
       "| 2 | Plume-Mt Edwards | Plume | 001 | Exp  | Mt Edwards  | 69818.95 |  6594.5107 | 23 | 35 | 65290.40 | 57808.35 |  3386.60 |  472.5500 |  51959.11 |  6.486133 | 17.202493 |\n",
       "| 3 | Vent-Mt Edwards  | Vent  | 013 | Ctrl | Mt Edwards  | 50556.80 | 13027.5642 | 24 | 36 | 53502.93 | 44577.05 | 12508.17 | 1260.1500 |  51439.52 |  5.827373 | 11.827786 |\n",
       "| 4 | Vent-Mt Edwards  | Vent  | 013 | Exp  | Mt Edwards  | 60381.13 |  4786.6367 | 24 | 36 | 40639.10 | 29770.53 |  4095.40 |  510.4046 |  51439.52 | 32.695699 | 50.695651 |\n",
       "| 5 | Vent-Venti latte | Vent  | 043 | Ctrl | Venti latte | 47761.10 |  8224.6000 | 19 | 29 | 51271.45 | 52216.55 |  9687.25 | 2126.4500 | 111192.50 |  7.349810 |  9.328617 |\n",
       "| 6 | Vent-Venti latte | Vent  | 043 | Exp  | Venti latte | 45154.57 |   670.3404 | 19 | 29 | 32448.30 | 37436.30 |  5670.60 | 2244.8518 | 111192.50 | 28.139494 | 17.092992 |\n",
       "\n"
      ],
      "text/plain": [
       "  SAMPLE           SampleOrigin SampleNumber Bottle Vent.name   Avg_cellmL_T0\n",
       "1 Plume-Mt Edwards Plume        001          Ctrl   Mt Edwards  40027.85     \n",
       "2 Plume-Mt Edwards Plume        001          Exp    Mt Edwards  69818.95     \n",
       "3 Vent-Mt Edwards  Vent         013          Ctrl   Mt Edwards  50556.80     \n",
       "4 Vent-Mt Edwards  Vent         013          Exp    Mt Edwards  60381.13     \n",
       "5 Vent-Venti latte Vent         043          Ctrl   Venti latte 47761.10     \n",
       "6 Vent-Venti latte Vent         043          Exp    Venti latte 45154.57     \n",
       "  sem_T0     T1 T2 Avg_cellmL_T1 Avg_cellmL_T2 sem_T1   sem_T2    prok_avg \n",
       "1 13685.1500 23 35 71433.50      66235.50         78.80 6536.9000  51959.11\n",
       "2  6594.5107 23 35 65290.40      57808.35       3386.60  472.5500  51959.11\n",
       "3 13027.5642 24 36 53502.93      44577.05      12508.17 1260.1500  51439.52\n",
       "4  4786.6367 24 36 40639.10      29770.53       4095.40  510.4046  51439.52\n",
       "5  8224.6000 19 29 51271.45      52216.55       9687.25 2126.4500 111192.50\n",
       "6   670.3404 19 29 32448.30      37436.30       5670.60 2244.8518 111192.50\n",
       "  T0_T1_PercDiff T0_T2_PercDiff\n",
       "1 78.459498      65.473539     \n",
       "2  6.486133      17.202493     \n",
       "3  5.827373      11.827786     \n",
       "4 32.695699      50.695651     \n",
       "5  7.349810       9.328617     \n",
       "6 28.139494      17.092992     "
      ]
     },
     "metadata": {},
     "output_type": "display_data"
    }
   ],
   "source": [
    "# Calculate percent difference between T0 and T1, and T1 and T2\n",
    "flp_exp_summary <- t0 %>%\n",
    "    left_join(t_ex) %>%\n",
    "    unite(SAMPLE, SampleOrigin, Vent.name, sep = \"-\", remove = FALSE) %>%\n",
    "    left_join(prok_avg) %>%\n",
    "    mutate(T0_T1_PercDiff = 100*(abs(Avg_cellmL_T1-Avg_cellmL_T0)/Avg_cellmL_T0),\n",
    "          T0_T2_PercDiff = 100*(abs(Avg_cellmL_T2-Avg_cellmL_T0)/Avg_cellmL_T0)) %>%\n",
    "    data.frame\n",
    "head(flp_exp_summary)"
   ]
  },
  {
   "cell_type": "code",
   "execution_count": 8,
   "metadata": {
    "scrolled": true
   },
   "outputs": [
    {
     "data": {
      "text/html": [
       "16.1493426148967"
      ],
      "text/latex": [
       "16.1493426148967"
      ],
      "text/markdown": [
       "16.1493426148967"
      ],
      "text/plain": [
       "[1] 16.14934"
      ]
     },
     "metadata": {},
     "output_type": "display_data"
    },
    {
     "data": {
      "text/html": [
       "<style>\n",
       ".list-inline {list-style: none; margin:0; padding: 0}\n",
       ".list-inline>li {display: inline-block}\n",
       ".list-inline>li:not(:last-child)::after {content: \"\\00b7\"; padding: 0 .5ex}\n",
       "</style>\n",
       "<ol class=list-inline><li>'SAMPLE'</li><li>'SampleOrigin'</li><li>'SampleNumber'</li><li>'Bottle'</li><li>'Vent.name'</li><li>'Avg_cellmL_T0'</li><li>'sem_T0'</li><li>'T1'</li><li>'T2'</li><li>'Avg_cellmL_T1'</li><li>'Avg_cellmL_T2'</li><li>'sem_T1'</li><li>'sem_T2'</li><li>'prok_avg'</li><li>'T0_T1_PercDiff'</li><li>'T0_T2_PercDiff'</li></ol>\n"
      ],
      "text/latex": [
       "\\begin{enumerate*}\n",
       "\\item 'SAMPLE'\n",
       "\\item 'SampleOrigin'\n",
       "\\item 'SampleNumber'\n",
       "\\item 'Bottle'\n",
       "\\item 'Vent.name'\n",
       "\\item 'Avg\\_cellmL\\_T0'\n",
       "\\item 'sem\\_T0'\n",
       "\\item 'T1'\n",
       "\\item 'T2'\n",
       "\\item 'Avg\\_cellmL\\_T1'\n",
       "\\item 'Avg\\_cellmL\\_T2'\n",
       "\\item 'sem\\_T1'\n",
       "\\item 'sem\\_T2'\n",
       "\\item 'prok\\_avg'\n",
       "\\item 'T0\\_T1\\_PercDiff'\n",
       "\\item 'T0\\_T2\\_PercDiff'\n",
       "\\end{enumerate*}\n"
      ],
      "text/markdown": [
       "1. 'SAMPLE'\n",
       "2. 'SampleOrigin'\n",
       "3. 'SampleNumber'\n",
       "4. 'Bottle'\n",
       "5. 'Vent.name'\n",
       "6. 'Avg_cellmL_T0'\n",
       "7. 'sem_T0'\n",
       "8. 'T1'\n",
       "9. 'T2'\n",
       "10. 'Avg_cellmL_T1'\n",
       "11. 'Avg_cellmL_T2'\n",
       "12. 'sem_T1'\n",
       "13. 'sem_T2'\n",
       "14. 'prok_avg'\n",
       "15. 'T0_T1_PercDiff'\n",
       "16. 'T0_T2_PercDiff'\n",
       "\n",
       "\n"
      ],
      "text/plain": [
       " [1] \"SAMPLE\"         \"SampleOrigin\"   \"SampleNumber\"   \"Bottle\"        \n",
       " [5] \"Vent.name\"      \"Avg_cellmL_T0\"  \"sem_T0\"         \"T1\"            \n",
       " [9] \"T2\"             \"Avg_cellmL_T1\"  \"Avg_cellmL_T2\"  \"sem_T1\"        \n",
       "[13] \"sem_T2\"         \"prok_avg\"       \"T0_T1_PercDiff\" \"T0_T2_PercDiff\""
      ]
     },
     "metadata": {},
     "output_type": "display_data"
    }
   ],
   "source": [
    "# Prep data frame to look at loss of FLP over time for all time points\n",
    "## Compare to those that exceed error rate\n",
    "PERCENT_ERR\n",
    "# ?pivot_longer()\n",
    "colnames(flp_exp_summary)"
   ]
  },
  {
   "cell_type": "code",
   "execution_count": 9,
   "metadata": {
    "scrolled": true
   },
   "outputs": [
    {
     "name": "stderr",
     "output_type": "stream",
     "text": [
      "Joining, by = c(\"SAMPLE\", \"Bottle\", \"Vent.name\", \"Tx\")\n",
      "\n"
     ]
    },
    {
     "data": {
      "text/html": [
       "<table>\n",
       "<caption>A data.frame: 6 × 8</caption>\n",
       "<thead>\n",
       "\t<tr><th></th><th scope=col>SAMPLE</th><th scope=col>Bottle</th><th scope=col>Vent.name</th><th scope=col>CountID</th><th scope=col>Tx</th><th scope=col>cellmL</th><th scope=col>sem</th><th scope=col>Hrs</th></tr>\n",
       "\t<tr><th></th><th scope=col>&lt;chr&gt;</th><th scope=col>&lt;chr&gt;</th><th scope=col>&lt;fct&gt;</th><th scope=col>&lt;chr&gt;</th><th scope=col>&lt;chr&gt;</th><th scope=col>&lt;dbl&gt;</th><th scope=col>&lt;dbl&gt;</th><th scope=col>&lt;int&gt;</th></tr>\n",
       "</thead>\n",
       "<tbody>\n",
       "\t<tr><th scope=row>1</th><td>Plume-Mt Edwards</td><td>Ctrl</td><td>Mt Edwards</td><td>Avg_cellmL_T0</td><td>T0</td><td>40027.85</td><td>13685.150</td><td> 0</td></tr>\n",
       "\t<tr><th scope=row>2</th><td>Plume-Mt Edwards</td><td>Ctrl</td><td>Mt Edwards</td><td>Avg_cellmL_T1</td><td>T1</td><td>71433.50</td><td>   78.800</td><td>23</td></tr>\n",
       "\t<tr><th scope=row>3</th><td>Plume-Mt Edwards</td><td>Ctrl</td><td>Mt Edwards</td><td>Avg_cellmL_T2</td><td>T2</td><td>66235.50</td><td> 6536.900</td><td>35</td></tr>\n",
       "\t<tr><th scope=row>4</th><td>Plume-Mt Edwards</td><td>Exp </td><td>Mt Edwards</td><td>Avg_cellmL_T0</td><td>T0</td><td>69818.95</td><td> 6594.511</td><td> 0</td></tr>\n",
       "\t<tr><th scope=row>5</th><td>Plume-Mt Edwards</td><td>Exp </td><td>Mt Edwards</td><td>Avg_cellmL_T1</td><td>T1</td><td>65290.40</td><td> 3386.600</td><td>23</td></tr>\n",
       "\t<tr><th scope=row>6</th><td>Plume-Mt Edwards</td><td>Exp </td><td>Mt Edwards</td><td>Avg_cellmL_T2</td><td>T2</td><td>57808.35</td><td>  472.550</td><td>35</td></tr>\n",
       "</tbody>\n",
       "</table>\n"
      ],
      "text/latex": [
       "A data.frame: 6 × 8\n",
       "\\begin{tabular}{r|llllllll}\n",
       "  & SAMPLE & Bottle & Vent.name & CountID & Tx & cellmL & sem & Hrs\\\\\n",
       "  & <chr> & <chr> & <fct> & <chr> & <chr> & <dbl> & <dbl> & <int>\\\\\n",
       "\\hline\n",
       "\t1 & Plume-Mt Edwards & Ctrl & Mt Edwards & Avg\\_cellmL\\_T0 & T0 & 40027.85 & 13685.150 &  0\\\\\n",
       "\t2 & Plume-Mt Edwards & Ctrl & Mt Edwards & Avg\\_cellmL\\_T1 & T1 & 71433.50 &    78.800 & 23\\\\\n",
       "\t3 & Plume-Mt Edwards & Ctrl & Mt Edwards & Avg\\_cellmL\\_T2 & T2 & 66235.50 &  6536.900 & 35\\\\\n",
       "\t4 & Plume-Mt Edwards & Exp  & Mt Edwards & Avg\\_cellmL\\_T0 & T0 & 69818.95 &  6594.511 &  0\\\\\n",
       "\t5 & Plume-Mt Edwards & Exp  & Mt Edwards & Avg\\_cellmL\\_T1 & T1 & 65290.40 &  3386.600 & 23\\\\\n",
       "\t6 & Plume-Mt Edwards & Exp  & Mt Edwards & Avg\\_cellmL\\_T2 & T2 & 57808.35 &   472.550 & 35\\\\\n",
       "\\end{tabular}\n"
      ],
      "text/markdown": [
       "\n",
       "A data.frame: 6 × 8\n",
       "\n",
       "| <!--/--> | SAMPLE &lt;chr&gt; | Bottle &lt;chr&gt; | Vent.name &lt;fct&gt; | CountID &lt;chr&gt; | Tx &lt;chr&gt; | cellmL &lt;dbl&gt; | sem &lt;dbl&gt; | Hrs &lt;int&gt; |\n",
       "|---|---|---|---|---|---|---|---|---|\n",
       "| 1 | Plume-Mt Edwards | Ctrl | Mt Edwards | Avg_cellmL_T0 | T0 | 40027.85 | 13685.150 |  0 |\n",
       "| 2 | Plume-Mt Edwards | Ctrl | Mt Edwards | Avg_cellmL_T1 | T1 | 71433.50 |    78.800 | 23 |\n",
       "| 3 | Plume-Mt Edwards | Ctrl | Mt Edwards | Avg_cellmL_T2 | T2 | 66235.50 |  6536.900 | 35 |\n",
       "| 4 | Plume-Mt Edwards | Exp  | Mt Edwards | Avg_cellmL_T0 | T0 | 69818.95 |  6594.511 |  0 |\n",
       "| 5 | Plume-Mt Edwards | Exp  | Mt Edwards | Avg_cellmL_T1 | T1 | 65290.40 |  3386.600 | 23 |\n",
       "| 6 | Plume-Mt Edwards | Exp  | Mt Edwards | Avg_cellmL_T2 | T2 | 57808.35 |   472.550 | 35 |\n",
       "\n"
      ],
      "text/plain": [
       "  SAMPLE           Bottle Vent.name  CountID       Tx cellmL   sem       Hrs\n",
       "1 Plume-Mt Edwards Ctrl   Mt Edwards Avg_cellmL_T0 T0 40027.85 13685.150  0 \n",
       "2 Plume-Mt Edwards Ctrl   Mt Edwards Avg_cellmL_T1 T1 71433.50    78.800 23 \n",
       "3 Plume-Mt Edwards Ctrl   Mt Edwards Avg_cellmL_T2 T2 66235.50  6536.900 35 \n",
       "4 Plume-Mt Edwards Exp    Mt Edwards Avg_cellmL_T0 T0 69818.95  6594.511  0 \n",
       "5 Plume-Mt Edwards Exp    Mt Edwards Avg_cellmL_T1 T1 65290.40  3386.600 23 \n",
       "6 Plume-Mt Edwards Exp    Mt Edwards Avg_cellmL_T2 T2 57808.35   472.550 35 "
      ]
     },
     "metadata": {},
     "output_type": "display_data"
    }
   ],
   "source": [
    "cells_long <- flp_exp_summary %>%\n",
    "    select(SAMPLE, Bottle, Vent.name, Avg_cellmL_T0, Avg_cellmL_T1, Avg_cellmL_T2, T1, T2) %>%\n",
    "    pivot_longer(cols = starts_with(\"Avg_cellmL\"), names_to = \"CountID\", values_to = \"cellmL\") %>%\n",
    "    separate(CountID, c(\"avg\", \"excess\", \"Tx\"), sep = \"_\", remove = FALSE) %>%\n",
    "    select(-avg, -excess) %>%\n",
    "    data.frame\n",
    "\n",
    "sem_long <- flp_exp_summary %>%\n",
    "    select(SAMPLE, Bottle, Vent.name, sem_T0, sem_T1, sem_T2) %>%\n",
    "    pivot_longer(cols = starts_with(\"sem\"), names_to = \"semID\", values_to = \"sem\") %>%\n",
    "    separate(semID, c(\"excess\", \"Tx\"), sep = \"_\", remove = FALSE) %>%\n",
    "    select(-excess) %>%\n",
    "    data.frame\n",
    "\n",
    "# head(cells_long); head(sem_long)\n",
    "\n",
    "# Combine and fix Timepoint\n",
    "flp_long_toplot <- cells_long %>%\n",
    "    left_join(sem_long) %>%\n",
    "    select(-semID) %>%\n",
    "    add_column(Hrs = 0) %>%\n",
    "    mutate(Hrs = case_when(\n",
    "        Tx == \"T1\" ~ T1,\n",
    "        Tx == \"T2\" ~ T2,\n",
    "        TRUE ~ (as.integer(.$Hrs)))) %>%\n",
    "    select(-T1, -T2) %>%\n",
    "    data.frame\n",
    "\n",
    "head(flp_long_toplot)"
   ]
  },
  {
   "cell_type": "code",
   "execution_count": 11,
   "metadata": {
    "scrolled": true
   },
   "outputs": [
    {
     "data": {
      "text/html": [
       "<strong>pdf:</strong> 2"
      ],
      "text/latex": [
       "\\textbf{pdf:} 2"
      ],
      "text/markdown": [
       "**pdf:** 2"
      ],
      "text/plain": [
       "pdf \n",
       "  2 "
      ]
     },
     "metadata": {},
     "output_type": "display_data"
    }
   ],
   "source": [
    "## Plot average cells/ml for each experiment\n",
    "\n",
    "# Factor for plotting\n",
    "sample_order <- c('Plume-Mt Edwards','Vent-Mt Edwards','Vent-Candelabra','Vent-SirVentsalot','Vent-Venti latte')\n",
    "sample_color <-c(\"lightblue\",\"#377eb8\", \"#e41a1c\", \"#4daf4a\", \"#984ea3\")\n",
    "flp_long_toplot$SAMPLE_ORDER <- factor(flp_long_toplot$SAMPLE, levels = (sample_order))\n",
    "names(sample_color) <- sample_order\n",
    "bottle_order <- c(\"Ctrl\", \"Exp\")\n",
    "flp_long_toplot$BOTTLE <- factor(flp_long_toplot$Bottle, levels = bottle_order, labels = c(\"Control\", \"Experimental\"))\n",
    "\n",
    "options(repr.plot.width = 8, repr.plot.height = 6) #set plot size output \n",
    "\n",
    "# svg(\"Supplementary-FLP-CTRL-PercError-plot.svg\", w = 10, h = 8)\n",
    "ggplot(flp_long_toplot, aes(x = Hrs, y = cellmL, fill = SAMPLE_ORDER)) +\n",
    "    geom_rect(data = (subset(flp_long_toplot, Tx %in% \"T0\")), aes(xmin=0, xmax=40, \n",
    "            ymin=(cellmL - ((PERCENT_ERR/100)*cellmL)), \n",
    "            ymax=(cellmL + ((PERCENT_ERR/100)*cellmL))), color=NA,alpha=0.3) +\n",
    "    geom_line(stat = \"identity\", linetype = 1, aes(group = SAMPLE)) +\n",
    "    geom_errorbar(aes(ymin = (cellmL - sem), ymax = (cellmL + sem)), width = 0.1) +\n",
    "    geom_point(stat = \"identity\", size = 3, color = \"black\", shape = 21, aes(fill = SAMPLE)) +\n",
    "    scale_y_log10() +\n",
    "    scale_fill_manual(values = sample_color) +\n",
    "    labs(y = \"Log cells/ml\", x = \"Incubation hours\") +\n",
    "    facet_grid(SAMPLE_ORDER~BOTTLE, scales = \"free\") +\n",
    "    theme_minimal() + \n",
    "    theme(panel.grid.minor = element_blank(),\n",
    "          legend.title = element_blank(),\n",
    "          strip.text.x = element_text(face = \"bold\", color = \"black\", hjust = 0, size = 10),\n",
    "          strip.text.y = element_text(size = 6),\n",
    "          panel.background = element_blank(), axis.line = element_line(colour = \"black\"), \n",
    "          axis.text = element_text(color = \"black\", size = 9))\n",
    "# dev.off()"
   ]
  },
  {
   "cell_type": "markdown",
   "metadata": {},
   "source": [
    "## Refine FLP count results\n",
    "#### Subset flp results to only grab the FLP experiments with significant changes"
   ]
  },
  {
   "cell_type": "code",
   "execution_count": 12,
   "metadata": {
    "scrolled": true
   },
   "outputs": [
    {
     "data": {
      "text/html": [
       "<table>\n",
       "<caption>A data.frame: 5 × 3</caption>\n",
       "<thead>\n",
       "\t<tr><th scope=col>SAMPLE</th><th scope=col>Tx</th><th scope=col>Keep</th></tr>\n",
       "\t<tr><th scope=col>&lt;chr&gt;</th><th scope=col>&lt;chr&gt;</th><th scope=col>&lt;chr&gt;</th></tr>\n",
       "</thead>\n",
       "<tbody>\n",
       "\t<tr><td>Vent-Mt Edwards  </td><td>T1</td><td>yes</td></tr>\n",
       "\t<tr><td>Vent-Venti latte </td><td>T1</td><td>yes</td></tr>\n",
       "\t<tr><td>Vent-SirVentsalot</td><td>T1</td><td>yes</td></tr>\n",
       "\t<tr><td>Plume-Mt Edwards </td><td>T2</td><td>yes</td></tr>\n",
       "\t<tr><td>Vent-Candelabra  </td><td>T2</td><td>yes</td></tr>\n",
       "</tbody>\n",
       "</table>\n"
      ],
      "text/latex": [
       "A data.frame: 5 × 3\n",
       "\\begin{tabular}{lll}\n",
       " SAMPLE & Tx & Keep\\\\\n",
       " <chr> & <chr> & <chr>\\\\\n",
       "\\hline\n",
       "\t Vent-Mt Edwards   & T1 & yes\\\\\n",
       "\t Vent-Venti latte  & T1 & yes\\\\\n",
       "\t Vent-SirVentsalot & T1 & yes\\\\\n",
       "\t Plume-Mt Edwards  & T2 & yes\\\\\n",
       "\t Vent-Candelabra   & T2 & yes\\\\\n",
       "\\end{tabular}\n"
      ],
      "text/markdown": [
       "\n",
       "A data.frame: 5 × 3\n",
       "\n",
       "| SAMPLE &lt;chr&gt; | Tx &lt;chr&gt; | Keep &lt;chr&gt; |\n",
       "|---|---|---|\n",
       "| Vent-Mt Edwards   | T1 | yes |\n",
       "| Vent-Venti latte  | T1 | yes |\n",
       "| Vent-SirVentsalot | T1 | yes |\n",
       "| Plume-Mt Edwards  | T2 | yes |\n",
       "| Vent-Candelabra   | T2 | yes |\n",
       "\n"
      ],
      "text/plain": [
       "  SAMPLE            Tx Keep\n",
       "1 Vent-Mt Edwards   T1 yes \n",
       "2 Vent-Venti latte  T1 yes \n",
       "3 Vent-SirVentsalot T1 yes \n",
       "4 Plume-Mt Edwards  T2 yes \n",
       "5 Vent-Candelabra   T2 yes "
      ]
     },
     "metadata": {},
     "output_type": "display_data"
    }
   ],
   "source": [
    "# Subset Experiment results and filter for those that exceed the percent error\n",
    "flp_sig <- flp_exp_summary %>%\n",
    "    filter(Bottle %in% \"Exp\") %>%\n",
    "    select(-T1, -T2) %>%\n",
    "    mutate(T1_sig = case_when(\n",
    "        T0_T1_PercDiff > PERCENT_ERR ~ \"exceeds\"),\n",
    "           T2_sig = case_when(T0_T2_PercDiff > PERCENT_ERR ~ \"exceeds\")\n",
    "          ) %>%\n",
    "    data.frame\n",
    "\n",
    "# head(flp_sig)\n",
    "\n",
    "# Select experiments that T1 exceeds percent difference\n",
    "T1_tmp <- flp_sig %>%\n",
    "    filter(T1_sig == \"exceeds\") %>%\n",
    "    select(SAMPLE) %>%\n",
    "    data.frame\n",
    "T1_tmp$Tx = \"T1\"\n",
    "T1_tmp$Keep = \"yes\"\n",
    "\n",
    "# Select experiments that T1 was NA, but T2 was significant\n",
    "T2_tmp <- flp_sig %>%\n",
    "    filter(is.na(T1_sig) & T2_sig == \"exceeds\") %>%\n",
    "    select(SAMPLE) %>%\n",
    "    data.frame\n",
    "T2_tmp$Tx = \"T2\"\n",
    "T2_tmp$Keep = \"yes\"\n",
    "\n",
    "keep_status <- rbind(T1_tmp, T2_tmp); keep_status\n",
    "\n",
    "# # KEPT:\n",
    "# # plume time point T2, Candelabra T2\n",
    "# # Mt Edwards time point T1, Sirventsalot T1, & venti latte T1"
   ]
  },
  {
   "cell_type": "code",
   "execution_count": 13,
   "metadata": {
    "scrolled": true
   },
   "outputs": [
    {
     "name": "stderr",
     "output_type": "stream",
     "text": [
      "Joining, by = c(\"SAMPLE\", \"Tx\")\n",
      "\n"
     ]
    },
    {
     "data": {
      "text/html": [
       "<table>\n",
       "<caption>A data.frame: 10 × 11</caption>\n",
       "<thead>\n",
       "\t<tr><th scope=col>SAMPLE</th><th scope=col>SampleOrigin</th><th scope=col>Bottle</th><th scope=col>Vent.name</th><th scope=col>CountID</th><th scope=col>Tx</th><th scope=col>cellmL</th><th scope=col>sem</th><th scope=col>Hrs</th><th scope=col>SAMPLE_ORDER</th><th scope=col>BOTTLE</th></tr>\n",
       "\t<tr><th scope=col>&lt;chr&gt;</th><th scope=col>&lt;chr&gt;</th><th scope=col>&lt;chr&gt;</th><th scope=col>&lt;fct&gt;</th><th scope=col>&lt;chr&gt;</th><th scope=col>&lt;chr&gt;</th><th scope=col>&lt;dbl&gt;</th><th scope=col>&lt;dbl&gt;</th><th scope=col>&lt;int&gt;</th><th scope=col>&lt;fct&gt;</th><th scope=col>&lt;fct&gt;</th></tr>\n",
       "</thead>\n",
       "<tbody>\n",
       "\t<tr><td>Plume-Mt Edwards </td><td>Plume</td><td>Exp</td><td>Mt Edwards  </td><td>Avg_cellmL_T0</td><td>T0</td><td>69818.95</td><td>6594.5107</td><td> 0</td><td>Plume-Mt Edwards </td><td>Experimental</td></tr>\n",
       "\t<tr><td>Plume-Mt Edwards </td><td>Plume</td><td>Exp</td><td>Mt Edwards  </td><td>Avg_cellmL_T2</td><td>T2</td><td>57808.35</td><td> 472.5500</td><td>35</td><td>Plume-Mt Edwards </td><td>Experimental</td></tr>\n",
       "\t<tr><td>Vent-Mt Edwards  </td><td>Vent </td><td>Exp</td><td>Mt Edwards  </td><td>Avg_cellmL_T0</td><td>T0</td><td>60381.13</td><td>4786.6367</td><td> 0</td><td>Vent-Mt Edwards  </td><td>Experimental</td></tr>\n",
       "\t<tr><td>Vent-Mt Edwards  </td><td>Vent </td><td>Exp</td><td>Mt Edwards  </td><td>Avg_cellmL_T1</td><td>T1</td><td>40639.10</td><td>4095.4000</td><td>24</td><td>Vent-Mt Edwards  </td><td>Experimental</td></tr>\n",
       "\t<tr><td>Vent-Venti latte </td><td>Vent </td><td>Exp</td><td>Venti latte </td><td>Avg_cellmL_T0</td><td>T0</td><td>45154.57</td><td> 670.3404</td><td> 0</td><td>Vent-Venti latte </td><td>Experimental</td></tr>\n",
       "\t<tr><td>Vent-Venti latte </td><td>Vent </td><td>Exp</td><td>Venti latte </td><td>Avg_cellmL_T1</td><td>T1</td><td>32448.30</td><td>5670.6000</td><td>19</td><td>Vent-Venti latte </td><td>Experimental</td></tr>\n",
       "\t<tr><td>Vent-Candelabra  </td><td>Vent </td><td>Exp</td><td>Candelabra  </td><td>Avg_cellmL_T0</td><td>T0</td><td>25622.60</td><td>3964.4107</td><td> 0</td><td>Vent-Candelabra  </td><td>Experimental</td></tr>\n",
       "\t<tr><td>Vent-Candelabra  </td><td>Vent </td><td>Exp</td><td>Candelabra  </td><td>Avg_cellmL_T2</td><td>T2</td><td>14701.50</td><td>3079.0783</td><td>26</td><td>Vent-Candelabra  </td><td>Experimental</td></tr>\n",
       "\t<tr><td>Vent-SirVentsalot</td><td>Vent </td><td>Exp</td><td>SirVentsalot</td><td>Avg_cellmL_T0</td><td>T0</td><td>27985.33</td><td>5055.5143</td><td> 0</td><td>Vent-SirVentsalot</td><td>Experimental</td></tr>\n",
       "\t<tr><td>Vent-SirVentsalot</td><td>Vent </td><td>Exp</td><td>SirVentsalot</td><td>Avg_cellmL_T1</td><td>T1</td><td>10606.10</td><td>4108.8752</td><td>18</td><td>Vent-SirVentsalot</td><td>Experimental</td></tr>\n",
       "</tbody>\n",
       "</table>\n"
      ],
      "text/latex": [
       "A data.frame: 10 × 11\n",
       "\\begin{tabular}{lllllllllll}\n",
       " SAMPLE & SampleOrigin & Bottle & Vent.name & CountID & Tx & cellmL & sem & Hrs & SAMPLE\\_ORDER & BOTTLE\\\\\n",
       " <chr> & <chr> & <chr> & <fct> & <chr> & <chr> & <dbl> & <dbl> & <int> & <fct> & <fct>\\\\\n",
       "\\hline\n",
       "\t Plume-Mt Edwards  & Plume & Exp & Mt Edwards   & Avg\\_cellmL\\_T0 & T0 & 69818.95 & 6594.5107 &  0 & Plume-Mt Edwards  & Experimental\\\\\n",
       "\t Plume-Mt Edwards  & Plume & Exp & Mt Edwards   & Avg\\_cellmL\\_T2 & T2 & 57808.35 &  472.5500 & 35 & Plume-Mt Edwards  & Experimental\\\\\n",
       "\t Vent-Mt Edwards   & Vent  & Exp & Mt Edwards   & Avg\\_cellmL\\_T0 & T0 & 60381.13 & 4786.6367 &  0 & Vent-Mt Edwards   & Experimental\\\\\n",
       "\t Vent-Mt Edwards   & Vent  & Exp & Mt Edwards   & Avg\\_cellmL\\_T1 & T1 & 40639.10 & 4095.4000 & 24 & Vent-Mt Edwards   & Experimental\\\\\n",
       "\t Vent-Venti latte  & Vent  & Exp & Venti latte  & Avg\\_cellmL\\_T0 & T0 & 45154.57 &  670.3404 &  0 & Vent-Venti latte  & Experimental\\\\\n",
       "\t Vent-Venti latte  & Vent  & Exp & Venti latte  & Avg\\_cellmL\\_T1 & T1 & 32448.30 & 5670.6000 & 19 & Vent-Venti latte  & Experimental\\\\\n",
       "\t Vent-Candelabra   & Vent  & Exp & Candelabra   & Avg\\_cellmL\\_T0 & T0 & 25622.60 & 3964.4107 &  0 & Vent-Candelabra   & Experimental\\\\\n",
       "\t Vent-Candelabra   & Vent  & Exp & Candelabra   & Avg\\_cellmL\\_T2 & T2 & 14701.50 & 3079.0783 & 26 & Vent-Candelabra   & Experimental\\\\\n",
       "\t Vent-SirVentsalot & Vent  & Exp & SirVentsalot & Avg\\_cellmL\\_T0 & T0 & 27985.33 & 5055.5143 &  0 & Vent-SirVentsalot & Experimental\\\\\n",
       "\t Vent-SirVentsalot & Vent  & Exp & SirVentsalot & Avg\\_cellmL\\_T1 & T1 & 10606.10 & 4108.8752 & 18 & Vent-SirVentsalot & Experimental\\\\\n",
       "\\end{tabular}\n"
      ],
      "text/markdown": [
       "\n",
       "A data.frame: 10 × 11\n",
       "\n",
       "| SAMPLE &lt;chr&gt; | SampleOrigin &lt;chr&gt; | Bottle &lt;chr&gt; | Vent.name &lt;fct&gt; | CountID &lt;chr&gt; | Tx &lt;chr&gt; | cellmL &lt;dbl&gt; | sem &lt;dbl&gt; | Hrs &lt;int&gt; | SAMPLE_ORDER &lt;fct&gt; | BOTTLE &lt;fct&gt; |\n",
       "|---|---|---|---|---|---|---|---|---|---|---|\n",
       "| Plume-Mt Edwards  | Plume | Exp | Mt Edwards   | Avg_cellmL_T0 | T0 | 69818.95 | 6594.5107 |  0 | Plume-Mt Edwards  | Experimental |\n",
       "| Plume-Mt Edwards  | Plume | Exp | Mt Edwards   | Avg_cellmL_T2 | T2 | 57808.35 |  472.5500 | 35 | Plume-Mt Edwards  | Experimental |\n",
       "| Vent-Mt Edwards   | Vent  | Exp | Mt Edwards   | Avg_cellmL_T0 | T0 | 60381.13 | 4786.6367 |  0 | Vent-Mt Edwards   | Experimental |\n",
       "| Vent-Mt Edwards   | Vent  | Exp | Mt Edwards   | Avg_cellmL_T1 | T1 | 40639.10 | 4095.4000 | 24 | Vent-Mt Edwards   | Experimental |\n",
       "| Vent-Venti latte  | Vent  | Exp | Venti latte  | Avg_cellmL_T0 | T0 | 45154.57 |  670.3404 |  0 | Vent-Venti latte  | Experimental |\n",
       "| Vent-Venti latte  | Vent  | Exp | Venti latte  | Avg_cellmL_T1 | T1 | 32448.30 | 5670.6000 | 19 | Vent-Venti latte  | Experimental |\n",
       "| Vent-Candelabra   | Vent  | Exp | Candelabra   | Avg_cellmL_T0 | T0 | 25622.60 | 3964.4107 |  0 | Vent-Candelabra   | Experimental |\n",
       "| Vent-Candelabra   | Vent  | Exp | Candelabra   | Avg_cellmL_T2 | T2 | 14701.50 | 3079.0783 | 26 | Vent-Candelabra   | Experimental |\n",
       "| Vent-SirVentsalot | Vent  | Exp | SirVentsalot | Avg_cellmL_T0 | T0 | 27985.33 | 5055.5143 |  0 | Vent-SirVentsalot | Experimental |\n",
       "| Vent-SirVentsalot | Vent  | Exp | SirVentsalot | Avg_cellmL_T1 | T1 | 10606.10 | 4108.8752 | 18 | Vent-SirVentsalot | Experimental |\n",
       "\n"
      ],
      "text/plain": [
       "   SAMPLE            SampleOrigin Bottle Vent.name    CountID       Tx cellmL  \n",
       "1  Plume-Mt Edwards  Plume        Exp    Mt Edwards   Avg_cellmL_T0 T0 69818.95\n",
       "2  Plume-Mt Edwards  Plume        Exp    Mt Edwards   Avg_cellmL_T2 T2 57808.35\n",
       "3  Vent-Mt Edwards   Vent         Exp    Mt Edwards   Avg_cellmL_T0 T0 60381.13\n",
       "4  Vent-Mt Edwards   Vent         Exp    Mt Edwards   Avg_cellmL_T1 T1 40639.10\n",
       "5  Vent-Venti latte  Vent         Exp    Venti latte  Avg_cellmL_T0 T0 45154.57\n",
       "6  Vent-Venti latte  Vent         Exp    Venti latte  Avg_cellmL_T1 T1 32448.30\n",
       "7  Vent-Candelabra   Vent         Exp    Candelabra   Avg_cellmL_T0 T0 25622.60\n",
       "8  Vent-Candelabra   Vent         Exp    Candelabra   Avg_cellmL_T2 T2 14701.50\n",
       "9  Vent-SirVentsalot Vent         Exp    SirVentsalot Avg_cellmL_T0 T0 27985.33\n",
       "10 Vent-SirVentsalot Vent         Exp    SirVentsalot Avg_cellmL_T1 T1 10606.10\n",
       "   sem       Hrs SAMPLE_ORDER      BOTTLE      \n",
       "1  6594.5107  0  Plume-Mt Edwards  Experimental\n",
       "2   472.5500 35  Plume-Mt Edwards  Experimental\n",
       "3  4786.6367  0  Vent-Mt Edwards   Experimental\n",
       "4  4095.4000 24  Vent-Mt Edwards   Experimental\n",
       "5   670.3404  0  Vent-Venti latte  Experimental\n",
       "6  5670.6000 19  Vent-Venti latte  Experimental\n",
       "7  3964.4107  0  Vent-Candelabra   Experimental\n",
       "8  3079.0783 26  Vent-Candelabra   Experimental\n",
       "9  5055.5143  0  Vent-SirVentsalot Experimental\n",
       "10 4108.8752 18  Vent-SirVentsalot Experimental"
      ]
     },
     "metadata": {},
     "output_type": "display_data"
    }
   ],
   "source": [
    "# Join experiments that are significant and filter data to keep.\n",
    "t <- c(\"T1\", \"T2\")\n",
    "flp_trend_sig <- flp_long_toplot %>%\n",
    "    filter(Bottle == \"Exp\") %>%\n",
    "    left_join(keep_status) %>%\n",
    "    filter(Tx == \"T0\" | (Tx %in% t & Keep == \"yes\")) %>%\n",
    "    separate(SAMPLE, c(\"SampleOrigin\", \"excess\"), sep = \"-\", remove = FALSE) %>%\n",
    "    select(-Keep, -excess) %>%\n",
    "    data.frame\n",
    "flp_trend_sig"
   ]
  },
  {
   "cell_type": "markdown",
   "metadata": {},
   "source": [
    "### Plot FLP loss trend of experiments which exceeded percent error:"
   ]
  },
  {
   "cell_type": "code",
   "execution_count": 14,
   "metadata": {
    "scrolled": true
   },
   "outputs": [
    {
     "data": {
      "image/png": "[encoded data removed]",
      "text/plain": [
       "plot without title"
      ]
     },
     "metadata": {
      "image/png": {
       "height": 180,
       "width": 300
      },
      "text/plain": {
       "height": 180,
       "width": 300
      }
     },
     "output_type": "display_data"
    }
   ],
   "source": [
    "# # Factor (redundant to previous plot);factored columns remain in data frame\n",
    "# sample_order <- c('Plume-Mt Edwards','Vent-Mt Edwards','Vent-Candelabra','Vent-SirVentsalot','Vent-Venti latte')\n",
    "# sample_color <-c(\"lightblue\",\"#377eb8\", \"#e41a1c\", \"#4daf4a\", \"#984ea3\")\n",
    "# plot_flp_df$SAMPLE_ORDER <- factor(plot_flp_df$SAMPLE, levels = (sample_order))\n",
    "\n",
    "options(repr.plot.width = 5, repr.plot.height = 3) #set plot size output \n",
    "\n",
    "plot_graze_trends <- ggplot(flp_trend_sig, \n",
    "                            aes(x = Hrs, y = cellmL, fill = SAMPLE_ORDER, shape = SampleOrigin)) +\n",
    "    geom_line(stat=\"identity\", aes(group = SAMPLE_ORDER, linetype = SampleOrigin)) +\n",
    "    geom_errorbar(aes(ymin = (cellmL-sem), ymax = (cellmL+sem)), size = 0.5, width = 0.1)+\n",
    "    geom_point(stat=\"identity\", size=3, color=\"black\") +\n",
    "    scale_linetype_manual(values = c(2, 1))+\n",
    "    scale_fill_manual(values = sample_color)+\n",
    "    scale_shape_manual(values = c(24,21))+\n",
    "    scale_y_log10(limits = c(3e3,1e5))+\n",
    "    labs(y=\"Log cells/ml\", x = \"Incubation hours\")+\n",
    "    theme_minimal()+\n",
    "    theme(panel.grid.major = element_line(), panel.grid.minor = element_blank(),\n",
    "           panel.background = element_blank(), axis.line = element_line(colour = \"black\"), \n",
    "           axis.text=element_text(color=\"black\"), axis.ticks = element_line(),\n",
    "           legend.title = element_blank()) +\n",
    "    guides(fill = guide_legend(override.aes = list(shape = 21)),\n",
    "       shape = guide_legend(override.aes = list(fill = \"black\")))\n",
    "\n",
    "plot_graze_trends"
   ]
  },
  {
   "cell_type": "markdown",
   "metadata": {},
   "source": [
    "### Calculate/plot grazing rate & prokaryote turnover % per day"
   ]
  },
  {
   "cell_type": "code",
   "execution_count": null,
   "metadata": {
    "scrolled": true
   },
   "outputs": [],
   "source": [
    "# head(prok_avg[1:2,])\n",
    "# head(flp_trend_sig[1:3,])"
   ]
  },
  {
   "cell_type": "code",
   "execution_count": 15,
   "metadata": {
    "scrolled": true
   },
   "outputs": [
    {
     "name": "stderr",
     "output_type": "stream",
     "text": [
      "Joining, by = \"SAMPLE\"\n",
      "\n"
     ]
    },
    {
     "data": {
      "text/html": [
       "<table>\n",
       "<caption>A data.frame: 5 × 12</caption>\n",
       "<thead>\n",
       "\t<tr><th scope=col>SAMPLE</th><th scope=col>SampleOrigin</th><th scope=col>Bottle</th><th scope=col>Vent.name</th><th scope=col>SAMPLE_ORDER</th><th scope=col>BOTTLE</th><th scope=col>cellmL_T0</th><th scope=col>cellmL_Tf</th><th scope=col>sem_T0</th><th scope=col>sem_Tf</th><th scope=col>Hrs_Tf</th><th scope=col>prok_avg</th></tr>\n",
       "\t<tr><th scope=col>&lt;chr&gt;</th><th scope=col>&lt;chr&gt;</th><th scope=col>&lt;chr&gt;</th><th scope=col>&lt;fct&gt;</th><th scope=col>&lt;fct&gt;</th><th scope=col>&lt;fct&gt;</th><th scope=col>&lt;dbl&gt;</th><th scope=col>&lt;dbl&gt;</th><th scope=col>&lt;dbl&gt;</th><th scope=col>&lt;dbl&gt;</th><th scope=col>&lt;int&gt;</th><th scope=col>&lt;dbl&gt;</th></tr>\n",
       "</thead>\n",
       "<tbody>\n",
       "\t<tr><td>Plume-Mt Edwards </td><td>Plume</td><td>Exp</td><td>Mt Edwards  </td><td>Plume-Mt Edwards </td><td>Experimental</td><td>69818.95</td><td>57808.35</td><td>6594.5107</td><td> 472.550</td><td>35</td><td> 51959.11</td></tr>\n",
       "\t<tr><td>Vent-Mt Edwards  </td><td>Vent </td><td>Exp</td><td>Mt Edwards  </td><td>Vent-Mt Edwards  </td><td>Experimental</td><td>60381.13</td><td>40639.10</td><td>4786.6367</td><td>4095.400</td><td>24</td><td> 51439.52</td></tr>\n",
       "\t<tr><td>Vent-Venti latte </td><td>Vent </td><td>Exp</td><td>Venti latte </td><td>Vent-Venti latte </td><td>Experimental</td><td>45154.57</td><td>32448.30</td><td> 670.3404</td><td>5670.600</td><td>19</td><td>111192.50</td></tr>\n",
       "\t<tr><td>Vent-Candelabra  </td><td>Vent </td><td>Exp</td><td>Candelabra  </td><td>Vent-Candelabra  </td><td>Experimental</td><td>25622.60</td><td>14701.50</td><td>3964.4107</td><td>3079.078</td><td>26</td><td> 55076.66</td></tr>\n",
       "\t<tr><td>Vent-SirVentsalot</td><td>Vent </td><td>Exp</td><td>SirVentsalot</td><td>Vent-SirVentsalot</td><td>Experimental</td><td>27985.33</td><td>10606.10</td><td>5055.5143</td><td>4108.875</td><td>18</td><td> 52998.29</td></tr>\n",
       "</tbody>\n",
       "</table>\n"
      ],
      "text/latex": [
       "A data.frame: 5 × 12\n",
       "\\begin{tabular}{llllllllllll}\n",
       " SAMPLE & SampleOrigin & Bottle & Vent.name & SAMPLE\\_ORDER & BOTTLE & cellmL\\_T0 & cellmL\\_Tf & sem\\_T0 & sem\\_Tf & Hrs\\_Tf & prok\\_avg\\\\\n",
       " <chr> & <chr> & <chr> & <fct> & <fct> & <fct> & <dbl> & <dbl> & <dbl> & <dbl> & <int> & <dbl>\\\\\n",
       "\\hline\n",
       "\t Plume-Mt Edwards  & Plume & Exp & Mt Edwards   & Plume-Mt Edwards  & Experimental & 69818.95 & 57808.35 & 6594.5107 &  472.550 & 35 &  51959.11\\\\\n",
       "\t Vent-Mt Edwards   & Vent  & Exp & Mt Edwards   & Vent-Mt Edwards   & Experimental & 60381.13 & 40639.10 & 4786.6367 & 4095.400 & 24 &  51439.52\\\\\n",
       "\t Vent-Venti latte  & Vent  & Exp & Venti latte  & Vent-Venti latte  & Experimental & 45154.57 & 32448.30 &  670.3404 & 5670.600 & 19 & 111192.50\\\\\n",
       "\t Vent-Candelabra   & Vent  & Exp & Candelabra   & Vent-Candelabra   & Experimental & 25622.60 & 14701.50 & 3964.4107 & 3079.078 & 26 &  55076.66\\\\\n",
       "\t Vent-SirVentsalot & Vent  & Exp & SirVentsalot & Vent-SirVentsalot & Experimental & 27985.33 & 10606.10 & 5055.5143 & 4108.875 & 18 &  52998.29\\\\\n",
       "\\end{tabular}\n"
      ],
      "text/markdown": [
       "\n",
       "A data.frame: 5 × 12\n",
       "\n",
       "| SAMPLE &lt;chr&gt; | SampleOrigin &lt;chr&gt; | Bottle &lt;chr&gt; | Vent.name &lt;fct&gt; | SAMPLE_ORDER &lt;fct&gt; | BOTTLE &lt;fct&gt; | cellmL_T0 &lt;dbl&gt; | cellmL_Tf &lt;dbl&gt; | sem_T0 &lt;dbl&gt; | sem_Tf &lt;dbl&gt; | Hrs_Tf &lt;int&gt; | prok_avg &lt;dbl&gt; |\n",
       "|---|---|---|---|---|---|---|---|---|---|---|---|\n",
       "| Plume-Mt Edwards  | Plume | Exp | Mt Edwards   | Plume-Mt Edwards  | Experimental | 69818.95 | 57808.35 | 6594.5107 |  472.550 | 35 |  51959.11 |\n",
       "| Vent-Mt Edwards   | Vent  | Exp | Mt Edwards   | Vent-Mt Edwards   | Experimental | 60381.13 | 40639.10 | 4786.6367 | 4095.400 | 24 |  51439.52 |\n",
       "| Vent-Venti latte  | Vent  | Exp | Venti latte  | Vent-Venti latte  | Experimental | 45154.57 | 32448.30 |  670.3404 | 5670.600 | 19 | 111192.50 |\n",
       "| Vent-Candelabra   | Vent  | Exp | Candelabra   | Vent-Candelabra   | Experimental | 25622.60 | 14701.50 | 3964.4107 | 3079.078 | 26 |  55076.66 |\n",
       "| Vent-SirVentsalot | Vent  | Exp | SirVentsalot | Vent-SirVentsalot | Experimental | 27985.33 | 10606.10 | 5055.5143 | 4108.875 | 18 |  52998.29 |\n",
       "\n"
      ],
      "text/plain": [
       "  SAMPLE            SampleOrigin Bottle Vent.name    SAMPLE_ORDER     \n",
       "1 Plume-Mt Edwards  Plume        Exp    Mt Edwards   Plume-Mt Edwards \n",
       "2 Vent-Mt Edwards   Vent         Exp    Mt Edwards   Vent-Mt Edwards  \n",
       "3 Vent-Venti latte  Vent         Exp    Venti latte  Vent-Venti latte \n",
       "4 Vent-Candelabra   Vent         Exp    Candelabra   Vent-Candelabra  \n",
       "5 Vent-SirVentsalot Vent         Exp    SirVentsalot Vent-SirVentsalot\n",
       "  BOTTLE       cellmL_T0 cellmL_Tf sem_T0    sem_Tf   Hrs_Tf prok_avg \n",
       "1 Experimental 69818.95  57808.35  6594.5107  472.550 35      51959.11\n",
       "2 Experimental 60381.13  40639.10  4786.6367 4095.400 24      51439.52\n",
       "3 Experimental 45154.57  32448.30   670.3404 5670.600 19     111192.50\n",
       "4 Experimental 25622.60  14701.50  3964.4107 3079.078 26      55076.66\n",
       "5 Experimental 27985.33  10606.10  5055.5143 4108.875 18      52998.29"
      ]
     },
     "metadata": {},
     "output_type": "display_data"
    }
   ],
   "source": [
    "# Change time point label structure, as each experiments lists T0 or TF\n",
    "processed_data <- flp_trend_sig %>%\n",
    "    mutate(TimePoint = case_when(Tx == \"T0\" ~ \"T0\",\n",
    "                                Tx != \"T0\" ~ \"Tf\")) %>%\n",
    "    select(-Tx, -CountID) %>%\n",
    "    pivot_wider(names_from = TimePoint, values_from = c(cellmL, sem, Hrs)) %>%\n",
    "    select(-Hrs_T0) %>%\n",
    "    left_join(prok_avg) %>%\n",
    "    data.frame\n",
    "processed_data"
   ]
  },
  {
   "cell_type": "code",
   "execution_count": 16,
   "metadata": {
    "scrolled": true
   },
   "outputs": [],
   "source": [
    "# Grazing rate calculation from Connell et al. 2017\n",
    "\n",
    "# grazing rate = ln(Tf/T0) * (-1/t)\n",
    "## t = incubation hours reported as days\n",
    "## Tf = number of FLP at end of experiment\n",
    "## T0 = number of FLP at beginning of experiment\n",
    "\n",
    "## The natural log in R is 'log()'\n",
    "# log(5)\n",
    "# log10(5)"
   ]
  },
  {
   "cell_type": "code",
   "execution_count": 17,
   "metadata": {
    "scrolled": true
   },
   "outputs": [
    {
     "data": {
      "text/html": [
       "<table>\n",
       "<caption>A data.frame: 5 × 18</caption>\n",
       "<thead>\n",
       "\t<tr><th scope=col>SAMPLE</th><th scope=col>SampleOrigin</th><th scope=col>Bottle</th><th scope=col>Vent.name</th><th scope=col>SAMPLE_ORDER</th><th scope=col>BOTTLE</th><th scope=col>cellmL_T0</th><th scope=col>cellmL_Tf</th><th scope=col>sem_T0</th><th scope=col>sem_Tf</th><th scope=col>Hrs_Tf</th><th scope=col>prok_avg</th><th scope=col>rate</th><th scope=col>rate_min</th><th scope=col>rate_max</th><th scope=col>Prok_turnover</th><th scope=col>Prok_turnover_min</th><th scope=col>Prok_turnover_max</th></tr>\n",
       "\t<tr><th scope=col>&lt;chr&gt;</th><th scope=col>&lt;chr&gt;</th><th scope=col>&lt;chr&gt;</th><th scope=col>&lt;fct&gt;</th><th scope=col>&lt;fct&gt;</th><th scope=col>&lt;fct&gt;</th><th scope=col>&lt;dbl&gt;</th><th scope=col>&lt;dbl&gt;</th><th scope=col>&lt;dbl&gt;</th><th scope=col>&lt;dbl&gt;</th><th scope=col>&lt;int&gt;</th><th scope=col>&lt;dbl&gt;</th><th scope=col>&lt;dbl&gt;</th><th scope=col>&lt;dbl&gt;</th><th scope=col>&lt;dbl&gt;</th><th scope=col>&lt;dbl&gt;</th><th scope=col>&lt;dbl&gt;</th><th scope=col>&lt;dbl&gt;</th></tr>\n",
       "</thead>\n",
       "<tbody>\n",
       "\t<tr><td>Plume-Mt Edwards </td><td>Plume</td><td>Exp</td><td>Mt Edwards  </td><td>Plume-Mt Edwards </td><td>Experimental</td><td>69818.95</td><td>57808.35</td><td>6594.5107</td><td> 472.550</td><td>35</td><td> 51959.11</td><td>0.1294438</td><td>0.06703935</td><td>0.1857493</td><td> 12.94438</td><td>  6.703935</td><td> 18.57493</td></tr>\n",
       "\t<tr><td>Vent-Mt Edwards  </td><td>Vent </td><td>Exp</td><td>Mt Edwards  </td><td>Vent-Mt Edwards  </td><td>Experimental</td><td>60381.13</td><td>40639.10</td><td>4786.6367</td><td>4095.400</td><td>24</td><td> 51439.52</td><td>0.3959460</td><td>0.41957541</td><td>0.3762200</td><td> 39.59460</td><td> 41.957541</td><td> 37.62200</td></tr>\n",
       "\t<tr><td>Vent-Venti latte </td><td>Vent </td><td>Exp</td><td>Venti latte </td><td>Vent-Venti latte </td><td>Experimental</td><td>45154.57</td><td>32448.30</td><td> 670.3404</td><td>5670.600</td><td>19</td><td>111192.50</td><td>0.4174021</td><td>0.64113500</td><td>0.2325695</td><td> 41.74021</td><td> 64.113500</td><td> 23.25695</td></tr>\n",
       "\t<tr><td>Vent-Candelabra  </td><td>Vent </td><td>Exp</td><td>Candelabra  </td><td>Vent-Candelabra  </td><td>Experimental</td><td>25622.60</td><td>14701.50</td><td>3964.4107</td><td>3079.078</td><td>26</td><td> 55076.66</td><td>0.5127925</td><td>0.57456692</td><td>0.4700572</td><td> 51.27925</td><td> 57.456692</td><td> 47.00572</td></tr>\n",
       "\t<tr><td>Vent-SirVentsalot</td><td>Vent </td><td>Exp</td><td>SirVentsalot</td><td>Vent-SirVentsalot</td><td>Experimental</td><td>27985.33</td><td>10606.10</td><td>5055.5143</td><td>4108.875</td><td>18</td><td> 52998.29</td><td>1.2936683</td><td>1.68141744</td><td>1.0785052</td><td>129.36683</td><td>168.141744</td><td>107.85052</td></tr>\n",
       "</tbody>\n",
       "</table>\n"
      ],
      "text/latex": [
       "A data.frame: 5 × 18\n",
       "\\begin{tabular}{llllllllllllllllll}\n",
       " SAMPLE & SampleOrigin & Bottle & Vent.name & SAMPLE\\_ORDER & BOTTLE & cellmL\\_T0 & cellmL\\_Tf & sem\\_T0 & sem\\_Tf & Hrs\\_Tf & prok\\_avg & rate & rate\\_min & rate\\_max & Prok\\_turnover & Prok\\_turnover\\_min & Prok\\_turnover\\_max\\\\\n",
       " <chr> & <chr> & <chr> & <fct> & <fct> & <fct> & <dbl> & <dbl> & <dbl> & <dbl> & <int> & <dbl> & <dbl> & <dbl> & <dbl> & <dbl> & <dbl> & <dbl>\\\\\n",
       "\\hline\n",
       "\t Plume-Mt Edwards  & Plume & Exp & Mt Edwards   & Plume-Mt Edwards  & Experimental & 69818.95 & 57808.35 & 6594.5107 &  472.550 & 35 &  51959.11 & 0.1294438 & 0.06703935 & 0.1857493 &  12.94438 &   6.703935 &  18.57493\\\\\n",
       "\t Vent-Mt Edwards   & Vent  & Exp & Mt Edwards   & Vent-Mt Edwards   & Experimental & 60381.13 & 40639.10 & 4786.6367 & 4095.400 & 24 &  51439.52 & 0.3959460 & 0.41957541 & 0.3762200 &  39.59460 &  41.957541 &  37.62200\\\\\n",
       "\t Vent-Venti latte  & Vent  & Exp & Venti latte  & Vent-Venti latte  & Experimental & 45154.57 & 32448.30 &  670.3404 & 5670.600 & 19 & 111192.50 & 0.4174021 & 0.64113500 & 0.2325695 &  41.74021 &  64.113500 &  23.25695\\\\\n",
       "\t Vent-Candelabra   & Vent  & Exp & Candelabra   & Vent-Candelabra   & Experimental & 25622.60 & 14701.50 & 3964.4107 & 3079.078 & 26 &  55076.66 & 0.5127925 & 0.57456692 & 0.4700572 &  51.27925 &  57.456692 &  47.00572\\\\\n",
       "\t Vent-SirVentsalot & Vent  & Exp & SirVentsalot & Vent-SirVentsalot & Experimental & 27985.33 & 10606.10 & 5055.5143 & 4108.875 & 18 &  52998.29 & 1.2936683 & 1.68141744 & 1.0785052 & 129.36683 & 168.141744 & 107.85052\\\\\n",
       "\\end{tabular}\n"
      ],
      "text/markdown": [
       "\n",
       "A data.frame: 5 × 18\n",
       "\n",
       "| SAMPLE &lt;chr&gt; | SampleOrigin &lt;chr&gt; | Bottle &lt;chr&gt; | Vent.name &lt;fct&gt; | SAMPLE_ORDER &lt;fct&gt; | BOTTLE &lt;fct&gt; | cellmL_T0 &lt;dbl&gt; | cellmL_Tf &lt;dbl&gt; | sem_T0 &lt;dbl&gt; | sem_Tf &lt;dbl&gt; | Hrs_Tf &lt;int&gt; | prok_avg &lt;dbl&gt; | rate &lt;dbl&gt; | rate_min &lt;dbl&gt; | rate_max &lt;dbl&gt; | Prok_turnover &lt;dbl&gt; | Prok_turnover_min &lt;dbl&gt; | Prok_turnover_max &lt;dbl&gt; |\n",
       "|---|---|---|---|---|---|---|---|---|---|---|---|---|---|---|---|---|---|\n",
       "| Plume-Mt Edwards  | Plume | Exp | Mt Edwards   | Plume-Mt Edwards  | Experimental | 69818.95 | 57808.35 | 6594.5107 |  472.550 | 35 |  51959.11 | 0.1294438 | 0.06703935 | 0.1857493 |  12.94438 |   6.703935 |  18.57493 |\n",
       "| Vent-Mt Edwards   | Vent  | Exp | Mt Edwards   | Vent-Mt Edwards   | Experimental | 60381.13 | 40639.10 | 4786.6367 | 4095.400 | 24 |  51439.52 | 0.3959460 | 0.41957541 | 0.3762200 |  39.59460 |  41.957541 |  37.62200 |\n",
       "| Vent-Venti latte  | Vent  | Exp | Venti latte  | Vent-Venti latte  | Experimental | 45154.57 | 32448.30 |  670.3404 | 5670.600 | 19 | 111192.50 | 0.4174021 | 0.64113500 | 0.2325695 |  41.74021 |  64.113500 |  23.25695 |\n",
       "| Vent-Candelabra   | Vent  | Exp | Candelabra   | Vent-Candelabra   | Experimental | 25622.60 | 14701.50 | 3964.4107 | 3079.078 | 26 |  55076.66 | 0.5127925 | 0.57456692 | 0.4700572 |  51.27925 |  57.456692 |  47.00572 |\n",
       "| Vent-SirVentsalot | Vent  | Exp | SirVentsalot | Vent-SirVentsalot | Experimental | 27985.33 | 10606.10 | 5055.5143 | 4108.875 | 18 |  52998.29 | 1.2936683 | 1.68141744 | 1.0785052 | 129.36683 | 168.141744 | 107.85052 |\n",
       "\n"
      ],
      "text/plain": [
       "  SAMPLE            SampleOrigin Bottle Vent.name    SAMPLE_ORDER     \n",
       "1 Plume-Mt Edwards  Plume        Exp    Mt Edwards   Plume-Mt Edwards \n",
       "2 Vent-Mt Edwards   Vent         Exp    Mt Edwards   Vent-Mt Edwards  \n",
       "3 Vent-Venti latte  Vent         Exp    Venti latte  Vent-Venti latte \n",
       "4 Vent-Candelabra   Vent         Exp    Candelabra   Vent-Candelabra  \n",
       "5 Vent-SirVentsalot Vent         Exp    SirVentsalot Vent-SirVentsalot\n",
       "  BOTTLE       cellmL_T0 cellmL_Tf sem_T0    sem_Tf   Hrs_Tf prok_avg \n",
       "1 Experimental 69818.95  57808.35  6594.5107  472.550 35      51959.11\n",
       "2 Experimental 60381.13  40639.10  4786.6367 4095.400 24      51439.52\n",
       "3 Experimental 45154.57  32448.30   670.3404 5670.600 19     111192.50\n",
       "4 Experimental 25622.60  14701.50  3964.4107 3079.078 26      55076.66\n",
       "5 Experimental 27985.33  10606.10  5055.5143 4108.875 18      52998.29\n",
       "  rate      rate_min   rate_max  Prok_turnover Prok_turnover_min\n",
       "1 0.1294438 0.06703935 0.1857493  12.94438       6.703935       \n",
       "2 0.3959460 0.41957541 0.3762200  39.59460      41.957541       \n",
       "3 0.4174021 0.64113500 0.2325695  41.74021      64.113500       \n",
       "4 0.5127925 0.57456692 0.4700572  51.27925      57.456692       \n",
       "5 1.2936683 1.68141744 1.0785052 129.36683     168.141744       \n",
       "  Prok_turnover_max\n",
       "1  18.57493        \n",
       "2  37.62200        \n",
       "3  23.25695        \n",
       "4  47.00572        \n",
       "5 107.85052        "
      ]
     },
     "metadata": {},
     "output_type": "display_data"
    }
   ],
   "source": [
    "# Calculate grazing rates and prokaryote turnover percentage per day\n",
    "#\n",
    "graze_rate <- processed_data %>%\n",
    "    group_by(SAMPLE, SampleOrigin, Vent.name, Hrs_Tf) %>%\n",
    "    mutate(rate = (log(cellmL_Tf/cellmL_T0))*(-1/(Hrs_Tf/24)),\n",
    "           rate_min = (log((cellmL_Tf-sem_Tf)/(cellmL_T0-sem_T0)))*(-1/(Hrs_Tf/24)),\n",
    "           rate_max = (log((cellmL_Tf+sem_Tf)/(cellmL_T0+sem_T0)))*(-1/(Hrs_Tf/24)),\n",
    "          Prok_turnover = 100*((rate * prok_avg)/prok_avg),\n",
    "           Prok_turnover_min = 100*((rate_min * prok_avg)/prok_avg),\n",
    "           Prok_turnover_max = 100*((rate_max * prok_avg)/prok_avg)\n",
    "              ) %>%\n",
    "        data.frame \n",
    "graze_rate\n",
    "\n",
    "## Calculations not included:\n",
    "# q  - proportion of bacteria grazed in experiment\n",
    "## q_tp = ((cellmL_T0 - cellmL_Tf)/((cellmL_T0 + cellmL_Tf)/2)),\n",
    "## G - are total number of bacteria grazed during experiment\n",
    "# G_tp1 = ((cellmL_T0 - cellmL_Tf)*(prok_avg / cellmL_T0))"
   ]
  },
  {
   "cell_type": "code",
   "execution_count": 18,
   "metadata": {
    "scrolled": true
   },
   "outputs": [
    {
     "data": {
      "image/png": "[encoded data removed]",
      "text/plain": [
       "plot without title"
      ]
     },
     "metadata": {
      "image/png": {
       "height": 180,
       "width": 240
      },
      "text/plain": {
       "height": 180,
       "width": 240
      }
     },
     "output_type": "display_data"
    }
   ],
   "source": [
    "# Plot grazing rates with error bar\n",
    "options(repr.plot.width = 4, repr.plot.height = 3)\n",
    "\n",
    "# Re-factor - reverse color and order\n",
    "sample_order <- c('Plume-Mt Edwards','Vent-Mt Edwards','Vent-Candelabra','Vent-SirVentsalot','Vent-Venti latte')\n",
    "sample_color <-c(\"lightblue\",\"#377eb8\", \"#e41a1c\", \"#4daf4a\", \"#984ea3\")\n",
    "graze_rate$SAMPLE_ORDER <- factor(graze_rate$SAMPLE, levels = rev(sample_order))\n",
    "\n",
    "mortality <- ggplot(graze_rate, aes(x = SAMPLE_ORDER, y = rate, fill = SAMPLE_ORDER, shape = SampleOrigin)) + \n",
    "    geom_errorbar(aes(ymin = rate_min, ymax = rate_max), size = 0.5, width = 0.1) +\n",
    "    geom_point(stat = \"identity\", size = 3, color = \"black\", aes(shape = SampleOrigin)) +\n",
    "    scale_fill_manual(values = rev(sample_color)) +\n",
    "    scale_shape_manual(values = c(24,21)) +\n",
    "    coord_flip() +\n",
    "    labs(x = \"\", y = bquote(\"Cells \"~mL^-1 ~consumed ~day^-1)) +\n",
    "    theme_minimal() +\n",
    "    theme(panel.grid.major = element_line(), panel.grid.minor = element_blank(),\n",
    "           panel.background = element_blank(), axis.line = element_line(colour = \"black\"), \n",
    "           axis.text=element_text(color=\"black\"), axis.ticks = element_line(),\n",
    "           legend.position = \"none\", strip.text =element_blank())\n",
    "\n",
    "mortality"
   ]
  },
  {
   "cell_type": "code",
   "execution_count": 19,
   "metadata": {
    "scrolled": true
   },
   "outputs": [
    {
     "data": {
      "image/png": "[encoded data removed]",
      "text/plain": [
       "plot without title"
      ]
     },
     "metadata": {
      "image/png": {
       "height": 180,
       "width": 240
      },
      "text/plain": {
       "height": 180,
       "width": 240
      }
     },
     "output_type": "display_data"
    }
   ],
   "source": [
    "# Plot turnover:\n",
    "options(repr.plot.width = 4, repr.plot.height = 3)\n",
    "bar_plot <- ggplot(graze_rate, aes(x = SAMPLE_ORDER, y = Prok_turnover)) +\n",
    "    geom_bar(stat = \"identity\", position = \"stack\", aes(fill = SAMPLE_ORDER)) +\n",
    "    geom_errorbar(aes(ymin = Prok_turnover_min, ymax = Prok_turnover_max), size = 0.5, width = 0.1) +\n",
    "    scale_fill_manual(values = rev(sample_color)) +\n",
    "    scale_y_continuous(expand = c(0,0)) +\n",
    "    labs(x = \"\", y = bquote(\"Prokaryote turnover %\"~d^-1)) +\n",
    "    coord_flip() +\n",
    "    theme_minimal() +\n",
    "    theme(panel.grid.major = element_line(),\n",
    "           panel.background = element_blank(), axis.line = element_line(colour = \"black\"), \n",
    "           axis.text=element_text(color=\"black\"), axis.ticks = element_line(),\n",
    "           legend.position = \"none\", strip.text =element_blank())\n",
    "bar_plot"
   ]
  },
  {
   "cell_type": "code",
   "execution_count": 22,
   "metadata": {
    "scrolled": true
   },
   "outputs": [
    {
     "data": {
      "image/png": "[encoded data removed]",
      "text/plain": [
       "plot without title"
      ]
     },
     "metadata": {
      "image/png": {
       "height": 180,
       "width": 720
      },
      "text/plain": {
       "height": 180,
       "width": 720
      }
     },
     "output_type": "display_data"
    }
   ],
   "source": [
    "# Combine all plots\n",
    "options(repr.plot.width = 12, repr.plot.height = 3)\n",
    "leg <- get_legend(plot_graze_trends)\n",
    "\n",
    "# svg(\"Grazing-results-finalplot.svg\", h = 3, w = 12)\n",
    "plot_grid(plot_graze_trends + theme(legend.position = \"none\"),\n",
    "          mortality + theme(axis.text.y = element_blank()),\n",
    "          bar_plot + theme(axis.text.y = element_blank()), leg,\n",
    "          axis = c(\"bt\", \"bt\", \"bt\", \"l\"), align = \"v\", labels = c(\"a\", \"b\", \"c\", \"\"), nrow = 1)\n",
    "# dev.off()"
   ]
  },
  {
   "cell_type": "code",
   "execution_count": 23,
   "metadata": {
    "scrolled": true
   },
   "outputs": [],
   "source": [
    "## Save supplementary tables:\n",
    "write_delim(graze_rate, path = \"Grazing-calc-results.txt\", delim = \"\\t\")"
   ]
  },
  {
   "cell_type": "code",
   "execution_count": 24,
   "metadata": {},
   "outputs": [
    {
     "data": {
      "text/html": [
       "<table>\n",
       "<caption>A data.frame: 5 × 3</caption>\n",
       "<thead>\n",
       "\t<tr><th></th><th scope=col>SAMPLE</th><th scope=col>cellmL</th><th scope=col>BOTTLE</th></tr>\n",
       "\t<tr><th></th><th scope=col>&lt;chr&gt;</th><th scope=col>&lt;dbl&gt;</th><th scope=col>&lt;chr&gt;</th></tr>\n",
       "</thead>\n",
       "<tbody>\n",
       "\t<tr><th scope=row>1</th><td>Plume-Mt Edwards </td><td> 51959.11</td><td>in situ</td></tr>\n",
       "\t<tr><th scope=row>2</th><td>Vent-Candelabra  </td><td> 55076.66</td><td>in situ</td></tr>\n",
       "\t<tr><th scope=row>3</th><td>Vent-Mt Edwards  </td><td> 51439.52</td><td>in situ</td></tr>\n",
       "\t<tr><th scope=row>4</th><td>Vent-SirVentsalot</td><td> 52998.29</td><td>in situ</td></tr>\n",
       "\t<tr><th scope=row>5</th><td>Vent-Venti latte </td><td>111192.50</td><td>in situ</td></tr>\n",
       "</tbody>\n",
       "</table>\n"
      ],
      "text/latex": [
       "A data.frame: 5 × 3\n",
       "\\begin{tabular}{r|lll}\n",
       "  & SAMPLE & cellmL & BOTTLE\\\\\n",
       "  & <chr> & <dbl> & <chr>\\\\\n",
       "\\hline\n",
       "\t1 & Plume-Mt Edwards  &  51959.11 & in situ\\\\\n",
       "\t2 & Vent-Candelabra   &  55076.66 & in situ\\\\\n",
       "\t3 & Vent-Mt Edwards   &  51439.52 & in situ\\\\\n",
       "\t4 & Vent-SirVentsalot &  52998.29 & in situ\\\\\n",
       "\t5 & Vent-Venti latte  & 111192.50 & in situ\\\\\n",
       "\\end{tabular}\n"
      ],
      "text/markdown": [
       "\n",
       "A data.frame: 5 × 3\n",
       "\n",
       "| <!--/--> | SAMPLE &lt;chr&gt; | cellmL &lt;dbl&gt; | BOTTLE &lt;chr&gt; |\n",
       "|---|---|---|---|\n",
       "| 1 | Plume-Mt Edwards  |  51959.11 | in situ |\n",
       "| 2 | Vent-Candelabra   |  55076.66 | in situ |\n",
       "| 3 | Vent-Mt Edwards   |  51439.52 | in situ |\n",
       "| 4 | Vent-SirVentsalot |  52998.29 | in situ |\n",
       "| 5 | Vent-Venti latte  | 111192.50 | in situ |\n",
       "\n"
      ],
      "text/plain": [
       "  SAMPLE            cellmL    BOTTLE \n",
       "1 Plume-Mt Edwards   51959.11 in situ\n",
       "2 Vent-Candelabra    55076.66 in situ\n",
       "3 Vent-Mt Edwards    51439.52 in situ\n",
       "4 Vent-SirVentsalot  52998.29 in situ\n",
       "5 Vent-Venti latte  111192.50 in situ"
      ]
     },
     "metadata": {},
     "output_type": "display_data"
    }
   ],
   "source": [
    "prok_avg$BOTTLE = \"in situ\"\n",
    "colnames(prok_avg)[2] <- \"cellmL\"\n",
    "x <- as.character(unique(flp_long_toplot$SAMPLE))\n",
    "prok_tmp <- filter(prok_avg, SAMPLE %in% x)\n",
    "head(prok_tmp)"
   ]
  },
  {
   "cell_type": "code",
   "execution_count": 25,
   "metadata": {},
   "outputs": [
    {
     "data": {
      "text/html": [
       "<table>\n",
       "<caption>A data.frame: 15 × 3</caption>\n",
       "<thead>\n",
       "\t<tr><th scope=col>SAMPLE</th><th scope=col>BOTTLE</th><th scope=col>cellmL</th></tr>\n",
       "\t<tr><th scope=col>&lt;chr&gt;</th><th scope=col>&lt;fct&gt;</th><th scope=col>&lt;dbl&gt;</th></tr>\n",
       "</thead>\n",
       "<tbody>\n",
       "\t<tr><td>Plume-Mt Edwards </td><td>Control     </td><td> 40027.85</td></tr>\n",
       "\t<tr><td>Plume-Mt Edwards </td><td>Experimental</td><td> 69818.95</td></tr>\n",
       "\t<tr><td>Vent-Mt Edwards  </td><td>Control     </td><td> 50556.80</td></tr>\n",
       "\t<tr><td>Vent-Mt Edwards  </td><td>Experimental</td><td> 60381.13</td></tr>\n",
       "\t<tr><td>Vent-Venti latte </td><td>Control     </td><td> 47761.10</td></tr>\n",
       "\t<tr><td>Vent-Venti latte </td><td>Experimental</td><td> 45154.57</td></tr>\n",
       "\t<tr><td>Vent-Candelabra  </td><td>Control     </td><td> 78574.20</td></tr>\n",
       "\t<tr><td>Vent-Candelabra  </td><td>Experimental</td><td> 25622.60</td></tr>\n",
       "\t<tr><td>Vent-SirVentsalot</td><td>Control     </td><td> 56593.85</td></tr>\n",
       "\t<tr><td>Vent-SirVentsalot</td><td>Experimental</td><td> 27985.33</td></tr>\n",
       "\t<tr><td>Plume-Mt Edwards </td><td>in situ     </td><td> 51959.11</td></tr>\n",
       "\t<tr><td>Vent-Candelabra  </td><td>in situ     </td><td> 55076.66</td></tr>\n",
       "\t<tr><td>Vent-Mt Edwards  </td><td>in situ     </td><td> 51439.52</td></tr>\n",
       "\t<tr><td>Vent-SirVentsalot</td><td>in situ     </td><td> 52998.29</td></tr>\n",
       "\t<tr><td>Vent-Venti latte </td><td>in situ     </td><td>111192.50</td></tr>\n",
       "</tbody>\n",
       "</table>\n"
      ],
      "text/latex": [
       "A data.frame: 15 × 3\n",
       "\\begin{tabular}{lll}\n",
       " SAMPLE & BOTTLE & cellmL\\\\\n",
       " <chr> & <fct> & <dbl>\\\\\n",
       "\\hline\n",
       "\t Plume-Mt Edwards  & Control      &  40027.85\\\\\n",
       "\t Plume-Mt Edwards  & Experimental &  69818.95\\\\\n",
       "\t Vent-Mt Edwards   & Control      &  50556.80\\\\\n",
       "\t Vent-Mt Edwards   & Experimental &  60381.13\\\\\n",
       "\t Vent-Venti latte  & Control      &  47761.10\\\\\n",
       "\t Vent-Venti latte  & Experimental &  45154.57\\\\\n",
       "\t Vent-Candelabra   & Control      &  78574.20\\\\\n",
       "\t Vent-Candelabra   & Experimental &  25622.60\\\\\n",
       "\t Vent-SirVentsalot & Control      &  56593.85\\\\\n",
       "\t Vent-SirVentsalot & Experimental &  27985.33\\\\\n",
       "\t Plume-Mt Edwards  & in situ      &  51959.11\\\\\n",
       "\t Vent-Candelabra   & in situ      &  55076.66\\\\\n",
       "\t Vent-Mt Edwards   & in situ      &  51439.52\\\\\n",
       "\t Vent-SirVentsalot & in situ      &  52998.29\\\\\n",
       "\t Vent-Venti latte  & in situ      & 111192.50\\\\\n",
       "\\end{tabular}\n"
      ],
      "text/markdown": [
       "\n",
       "A data.frame: 15 × 3\n",
       "\n",
       "| SAMPLE &lt;chr&gt; | BOTTLE &lt;fct&gt; | cellmL &lt;dbl&gt; |\n",
       "|---|---|---|\n",
       "| Plume-Mt Edwards  | Control      |  40027.85 |\n",
       "| Plume-Mt Edwards  | Experimental |  69818.95 |\n",
       "| Vent-Mt Edwards   | Control      |  50556.80 |\n",
       "| Vent-Mt Edwards   | Experimental |  60381.13 |\n",
       "| Vent-Venti latte  | Control      |  47761.10 |\n",
       "| Vent-Venti latte  | Experimental |  45154.57 |\n",
       "| Vent-Candelabra   | Control      |  78574.20 |\n",
       "| Vent-Candelabra   | Experimental |  25622.60 |\n",
       "| Vent-SirVentsalot | Control      |  56593.85 |\n",
       "| Vent-SirVentsalot | Experimental |  27985.33 |\n",
       "| Plume-Mt Edwards  | in situ      |  51959.11 |\n",
       "| Vent-Candelabra   | in situ      |  55076.66 |\n",
       "| Vent-Mt Edwards   | in situ      |  51439.52 |\n",
       "| Vent-SirVentsalot | in situ      |  52998.29 |\n",
       "| Vent-Venti latte  | in situ      | 111192.50 |\n",
       "\n"
      ],
      "text/plain": [
       "   SAMPLE            BOTTLE       cellmL   \n",
       "1  Plume-Mt Edwards  Control       40027.85\n",
       "2  Plume-Mt Edwards  Experimental  69818.95\n",
       "3  Vent-Mt Edwards   Control       50556.80\n",
       "4  Vent-Mt Edwards   Experimental  60381.13\n",
       "5  Vent-Venti latte  Control       47761.10\n",
       "6  Vent-Venti latte  Experimental  45154.57\n",
       "7  Vent-Candelabra   Control       78574.20\n",
       "8  Vent-Candelabra   Experimental  25622.60\n",
       "9  Vent-SirVentsalot Control       56593.85\n",
       "10 Vent-SirVentsalot Experimental  27985.33\n",
       "11 Plume-Mt Edwards  in situ       51959.11\n",
       "12 Vent-Candelabra   in situ       55076.66\n",
       "13 Vent-Mt Edwards   in situ       51439.52\n",
       "14 Vent-SirVentsalot in situ       52998.29\n",
       "15 Vent-Venti latte  in situ      111192.50"
      ]
     },
     "metadata": {},
     "output_type": "display_data"
    }
   ],
   "source": [
    "t0_flp <- flp_long_toplot %>%\n",
    "    filter(Tx == \"T0\") %>%\n",
    "    select(SAMPLE, BOTTLE, cellmL) %>%\n",
    "    data.frame\n",
    "# t0_flp\n",
    "\n",
    "# Combine\n",
    "t0_insitu_counts <- rbind(t0_flp, prok_tmp); t0_insitu_counts"
   ]
  },
  {
   "cell_type": "code",
   "execution_count": 37,
   "metadata": {},
   "outputs": [
    {
     "data": {
      "text/html": [
       "<strong>pdf:</strong> 2"
      ],
      "text/latex": [
       "\\textbf{pdf:} 2"
      ],
      "text/markdown": [
       "**pdf:** 2"
      ],
      "text/plain": [
       "pdf \n",
       "  2 "
      ]
     },
     "metadata": {},
     "output_type": "display_data"
    }
   ],
   "source": [
    "# Plot distribution of counts\n",
    "options(repr.plot.width = 6, repr.plot.height = 5)\n",
    "\n",
    "# svg(\"flp-insitu-prok-counts.svg\", w = 6, h = 5)\n",
    "ggplot(t0_insitu_counts, aes(x = SAMPLE, y = cellmL, fill = BOTTLE, shape = BOTTLE)) +\n",
    "    geom_point(stat = \"identity\", size = 4) +\n",
    "    scale_y_log10(limits = c(1e3,1e6)) +\n",
    "    scale_fill_manual(values = c(\"#d73027\", \"#fee090\", \"#4575b4\")) +\n",
    "    scale_shape_manual(values = c(22, 22, 23)) +\n",
    "    labs(x = \"\", y = \"cells/mL\") +\n",
    "    theme_bw() +\n",
    "    theme(legend.title = element_blank(),\n",
    "         axis.text.x = element_text(angle = 90, color = \"black\", size = 12, hjust = 1, vjust = 0.5),\n",
    "         axis.text.y = element_text(color = \"black\", size = 12))\n",
    "# dev.off()"
   ]
  },
  {
   "cell_type": "code",
   "execution_count": null,
   "metadata": {
    "scrolled": true
   },
   "outputs": [],
   "source": [
    "## Last updated SKH - May 20, 2020"
   ]
  }
 ],
 "metadata": {
  "kernelspec": {
   "display_name": "R",
   "language": "R",
   "name": "ir"
  },
  "language_info": {
   "codemirror_mode": "r",
   "file_extension": ".r",
   "mimetype": "text/x-r-source",
   "name": "R",
   "pygments_lexer": "r",
   "version": "3.6.1"
  }
 },
 "nbformat": 4,
 "nbformat_minor": 2
}
